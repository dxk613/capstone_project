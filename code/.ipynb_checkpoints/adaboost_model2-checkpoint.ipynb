{
 "cells": [
  {
   "cell_type": "code",
   "execution_count": 1,
   "id": "0f16f729",
   "metadata": {},
   "outputs": [],
   "source": [
    "import numpy as np\n",
    "import pandas as pd\n",
    "import matplotlib.pyplot as plt\n",
    "import seaborn as sns\n",
    "\n",
    "from sklearn.model_selection import train_test_split, GridSearchCV\n",
    "from imblearn.pipeline import make_pipeline\n",
    "from imblearn.over_sampling import RandomOverSampler\n",
    "from sklearn.metrics import (balanced_accuracy_score, ConfusionMatrixDisplay, \n",
    "                            recall_score, precision_score, f1_score)\n",
    "\n",
    "from imblearn.over_sampling import ADASYN\n",
    "from imblearn.over_sampling import SMOTEN\n",
    "from sklearn.preprocessing import StandardScaler\n",
    "from sklearn.ensemble import RandomForestClassifier, AdaBoostClassifier\n",
    "from sklearn.tree import DecisionTreeClassifier\n",
    "\n",
    "from sklearn.metrics import roc_auc_score\n",
    "from sklearn.metrics import confusion_matrix, ConfusionMatrixDisplay"
   ]
  },
  {
   "cell_type": "code",
   "execution_count": 2,
   "id": "cf3055e2",
   "metadata": {},
   "outputs": [
    {
     "data": {
      "text/html": [
       "<div>\n",
       "<style scoped>\n",
       "    .dataframe tbody tr th:only-of-type {\n",
       "        vertical-align: middle;\n",
       "    }\n",
       "\n",
       "    .dataframe tbody tr th {\n",
       "        vertical-align: top;\n",
       "    }\n",
       "\n",
       "    .dataframe thead th {\n",
       "        text-align: right;\n",
       "    }\n",
       "</style>\n",
       "<table border=\"1\" class=\"dataframe\">\n",
       "  <thead>\n",
       "    <tr style=\"text-align: right;\">\n",
       "      <th></th>\n",
       "      <th>hmlsmorethan1Yr</th>\n",
       "      <th>dv_neglect</th>\n",
       "      <th>dv_physical</th>\n",
       "      <th>dv_physical_rel</th>\n",
       "      <th>dv_sexual_rel</th>\n",
       "      <th>subsabuse</th>\n",
       "      <th>drugabuse</th>\n",
       "      <th>SPA</th>\n",
       "    </tr>\n",
       "  </thead>\n",
       "  <tbody>\n",
       "    <tr>\n",
       "      <th>0</th>\n",
       "      <td>1</td>\n",
       "      <td>1</td>\n",
       "      <td>1</td>\n",
       "      <td>1</td>\n",
       "      <td>0</td>\n",
       "      <td>0</td>\n",
       "      <td>0</td>\n",
       "      <td>4</td>\n",
       "    </tr>\n",
       "    <tr>\n",
       "      <th>1</th>\n",
       "      <td>1</td>\n",
       "      <td>0</td>\n",
       "      <td>0</td>\n",
       "      <td>0</td>\n",
       "      <td>1</td>\n",
       "      <td>0</td>\n",
       "      <td>0</td>\n",
       "      <td>4</td>\n",
       "    </tr>\n",
       "    <tr>\n",
       "      <th>2</th>\n",
       "      <td>1</td>\n",
       "      <td>0</td>\n",
       "      <td>0</td>\n",
       "      <td>0</td>\n",
       "      <td>0</td>\n",
       "      <td>0</td>\n",
       "      <td>0</td>\n",
       "      <td>1</td>\n",
       "    </tr>\n",
       "    <tr>\n",
       "      <th>3</th>\n",
       "      <td>1</td>\n",
       "      <td>0</td>\n",
       "      <td>0</td>\n",
       "      <td>0</td>\n",
       "      <td>0</td>\n",
       "      <td>0</td>\n",
       "      <td>0</td>\n",
       "      <td>4</td>\n",
       "    </tr>\n",
       "    <tr>\n",
       "      <th>4</th>\n",
       "      <td>0</td>\n",
       "      <td>0</td>\n",
       "      <td>0</td>\n",
       "      <td>0</td>\n",
       "      <td>0</td>\n",
       "      <td>0</td>\n",
       "      <td>0</td>\n",
       "      <td>4</td>\n",
       "    </tr>\n",
       "  </tbody>\n",
       "</table>\n",
       "</div>"
      ],
      "text/plain": [
       "   hmlsmorethan1Yr  dv_neglect  dv_physical  dv_physical_rel  dv_sexual_rel  \\\n",
       "0                1           1            1                1              0   \n",
       "1                1           0            0                0              1   \n",
       "2                1           0            0                0              0   \n",
       "3                1           0            0                0              0   \n",
       "4                0           0            0                0              0   \n",
       "\n",
       "   subsabuse  drugabuse  SPA  \n",
       "0          0          0    4  \n",
       "1          0          0    4  \n",
       "2          0          0    1  \n",
       "3          0          0    4  \n",
       "4          0          0    4  "
      ]
     },
     "execution_count": 2,
     "metadata": {},
     "output_type": "execute_result"
    }
   ],
   "source": [
    "# reading the youth model dataset \n",
    "youth_model = pd.read_csv(\"datasets/youth_model.csv\")\n",
    "\n",
    "youth_model.head()"
   ]
  },
  {
   "cell_type": "code",
   "execution_count": 3,
   "id": "0eae29e8",
   "metadata": {},
   "outputs": [],
   "source": [
    "def evaluation(X_test, y_test, preds, model):\n",
    "    ConfusionMatrixDisplay.from_estimator(model, X_test, y_test, cmap='Blues')\n",
    "    \n",
    "    b_acc = balanced_accuracy_score(y_test, preds)\n",
    "    recall = recall_score(y_test, preds, pos_label = 1)\n",
    "    prec = precision_score(y_test, preds, pos_label = 1)\n",
    "    f1 = f1_score(y_test, preds, pos_label = 1)\n",
    "\n",
    "    print(f'balanced_accuracy: {b_acc}')\n",
    "    print(f'recall: {recall}')\n",
    "    print(f'precision: {prec}')\n",
    "    print(f'f1 score: {f1}')\n",
    "\n",
    "    return {\n",
    "        'balanced_accuracy': b_acc,\n",
    "        'recall': recall,\n",
    "        'precision': prec,\n",
    "        'f1_score': f1\n",
    "    }"
   ]
  },
  {
   "cell_type": "code",
   "execution_count": 4,
   "id": "3f218a24",
   "metadata": {},
   "outputs": [],
   "source": [
    "scores = []"
   ]
  },
  {
   "cell_type": "markdown",
   "id": "12790b5f",
   "metadata": {},
   "source": [
    "# Normal AdaBoost"
   ]
  },
  {
   "cell_type": "code",
   "execution_count": 5,
   "id": "345f39f0",
   "metadata": {},
   "outputs": [],
   "source": [
    "# creating our X and y\n",
    "\n",
    "features = ['dv_neglect', 'dv_physical', 'dv_physical_rel', 'dv_sexual_rel', 'subsabuse', 'drugabuse', 'SPA']\n",
    "\n",
    "X = youth_model[features]\n",
    "y = youth_model['hmlsmorethan1Yr']"
   ]
  },
  {
   "cell_type": "code",
   "execution_count": 6,
   "id": "9d83b4e1",
   "metadata": {},
   "outputs": [],
   "source": [
    "# Train Test Split\n",
    "\n",
    "X_train, X_test, y_train, y_test = train_test_split(X,\n",
    "                                                    y,\n",
    "                                                    test_size=0.20,\n",
    "                                                    random_state=42,\n",
    "                                                    stratify=y)"
   ]
  },
  {
   "cell_type": "code",
   "execution_count": 7,
   "id": "0165e7d9",
   "metadata": {},
   "outputs": [
    {
     "data": {
      "text/html": [
       "<style>#sk-container-id-1 {color: black;}#sk-container-id-1 pre{padding: 0;}#sk-container-id-1 div.sk-toggleable {background-color: white;}#sk-container-id-1 label.sk-toggleable__label {cursor: pointer;display: block;width: 100%;margin-bottom: 0;padding: 0.3em;box-sizing: border-box;text-align: center;}#sk-container-id-1 label.sk-toggleable__label-arrow:before {content: \"▸\";float: left;margin-right: 0.25em;color: #696969;}#sk-container-id-1 label.sk-toggleable__label-arrow:hover:before {color: black;}#sk-container-id-1 div.sk-estimator:hover label.sk-toggleable__label-arrow:before {color: black;}#sk-container-id-1 div.sk-toggleable__content {max-height: 0;max-width: 0;overflow: hidden;text-align: left;background-color: #f0f8ff;}#sk-container-id-1 div.sk-toggleable__content pre {margin: 0.2em;color: black;border-radius: 0.25em;background-color: #f0f8ff;}#sk-container-id-1 input.sk-toggleable__control:checked~div.sk-toggleable__content {max-height: 200px;max-width: 100%;overflow: auto;}#sk-container-id-1 input.sk-toggleable__control:checked~label.sk-toggleable__label-arrow:before {content: \"▾\";}#sk-container-id-1 div.sk-estimator input.sk-toggleable__control:checked~label.sk-toggleable__label {background-color: #d4ebff;}#sk-container-id-1 div.sk-label input.sk-toggleable__control:checked~label.sk-toggleable__label {background-color: #d4ebff;}#sk-container-id-1 input.sk-hidden--visually {border: 0;clip: rect(1px 1px 1px 1px);clip: rect(1px, 1px, 1px, 1px);height: 1px;margin: -1px;overflow: hidden;padding: 0;position: absolute;width: 1px;}#sk-container-id-1 div.sk-estimator {font-family: monospace;background-color: #f0f8ff;border: 1px dotted black;border-radius: 0.25em;box-sizing: border-box;margin-bottom: 0.5em;}#sk-container-id-1 div.sk-estimator:hover {background-color: #d4ebff;}#sk-container-id-1 div.sk-parallel-item::after {content: \"\";width: 100%;border-bottom: 1px solid gray;flex-grow: 1;}#sk-container-id-1 div.sk-label:hover label.sk-toggleable__label {background-color: #d4ebff;}#sk-container-id-1 div.sk-serial::before {content: \"\";position: absolute;border-left: 1px solid gray;box-sizing: border-box;top: 0;bottom: 0;left: 50%;z-index: 0;}#sk-container-id-1 div.sk-serial {display: flex;flex-direction: column;align-items: center;background-color: white;padding-right: 0.2em;padding-left: 0.2em;position: relative;}#sk-container-id-1 div.sk-item {position: relative;z-index: 1;}#sk-container-id-1 div.sk-parallel {display: flex;align-items: stretch;justify-content: center;background-color: white;position: relative;}#sk-container-id-1 div.sk-item::before, #sk-container-id-1 div.sk-parallel-item::before {content: \"\";position: absolute;border-left: 1px solid gray;box-sizing: border-box;top: 0;bottom: 0;left: 50%;z-index: -1;}#sk-container-id-1 div.sk-parallel-item {display: flex;flex-direction: column;z-index: 1;position: relative;background-color: white;}#sk-container-id-1 div.sk-parallel-item:first-child::after {align-self: flex-end;width: 50%;}#sk-container-id-1 div.sk-parallel-item:last-child::after {align-self: flex-start;width: 50%;}#sk-container-id-1 div.sk-parallel-item:only-child::after {width: 0;}#sk-container-id-1 div.sk-dashed-wrapped {border: 1px dashed gray;margin: 0 0.4em 0.5em 0.4em;box-sizing: border-box;padding-bottom: 0.4em;background-color: white;}#sk-container-id-1 div.sk-label label {font-family: monospace;font-weight: bold;display: inline-block;line-height: 1.2em;}#sk-container-id-1 div.sk-label-container {text-align: center;}#sk-container-id-1 div.sk-container {/* jupyter's `normalize.less` sets `[hidden] { display: none; }` but bootstrap.min.css set `[hidden] { display: none !important; }` so we also need the `!important` here to be able to override the default hidden behavior on the sphinx rendered scikit-learn.org. See: https://github.com/scikit-learn/scikit-learn/issues/21755 */display: inline-block !important;position: relative;}#sk-container-id-1 div.sk-text-repr-fallback {display: none;}</style><div id=\"sk-container-id-1\" class=\"sk-top-container\"><div class=\"sk-text-repr-fallback\"><pre>AdaBoostClassifier(random_state=42)</pre><b>In a Jupyter environment, please rerun this cell to show the HTML representation or trust the notebook. <br />On GitHub, the HTML representation is unable to render, please try loading this page with nbviewer.org.</b></div><div class=\"sk-container\" hidden><div class=\"sk-item\"><div class=\"sk-estimator sk-toggleable\"><input class=\"sk-toggleable__control sk-hidden--visually\" id=\"sk-estimator-id-1\" type=\"checkbox\" checked><label for=\"sk-estimator-id-1\" class=\"sk-toggleable__label sk-toggleable__label-arrow\">AdaBoostClassifier</label><div class=\"sk-toggleable__content\"><pre>AdaBoostClassifier(random_state=42)</pre></div></div></div></div></div>"
      ],
      "text/plain": [
       "AdaBoostClassifier(random_state=42)"
      ]
     },
     "execution_count": 7,
     "metadata": {},
     "output_type": "execute_result"
    }
   ],
   "source": [
    "# Instantiate ADA.\n",
    "ada = AdaBoostClassifier(random_state=42)\n",
    "\n",
    "ada.fit(X_train, y_train)"
   ]
  },
  {
   "cell_type": "code",
   "execution_count": 8,
   "id": "5d91484e",
   "metadata": {},
   "outputs": [
    {
     "data": {
      "text/plain": [
       "0.6666666666666666"
      ]
     },
     "execution_count": 8,
     "metadata": {},
     "output_type": "execute_result"
    }
   ],
   "source": [
    "# train score\n",
    "ada.score(X_train, y_train)"
   ]
  },
  {
   "cell_type": "code",
   "execution_count": 9,
   "id": "599a8151",
   "metadata": {},
   "outputs": [
    {
     "data": {
      "text/plain": [
       "0.6472868217054264"
      ]
     },
     "execution_count": 9,
     "metadata": {},
     "output_type": "execute_result"
    }
   ],
   "source": [
    "# test score\n",
    "ada.score(X_test, y_test)"
   ]
  },
  {
   "cell_type": "code",
   "execution_count": 13,
   "id": "c9cc3b9b",
   "metadata": {},
   "outputs": [
    {
     "data": {
      "image/png": "[encoded data removed]",
      "text/plain": [
       "<Figure size 640x480 with 2 Axes>"
      ]
     },
     "metadata": {},
     "output_type": "display_data"
    }
   ],
   "source": [
    "# Normal Ada Confusion Matrix\n",
    "\n",
    "ConfusionMatrixDisplay.from_estimator(ada, X_test, y_test, cmap = 'Reds')\n",
    "\n",
    "# Get the axis of the plot\n",
    "ax = plt.gca()\n",
    "\n",
    "# Set the title\n",
    "ax.set_title('CM of Normal Ada Boost Model');"
   ]
  },
  {
   "cell_type": "markdown",
   "id": "b257a314",
   "metadata": {},
   "source": [
    "# Confusion Matrix of Normal Ada Boost Model\n",
    "_________\n",
    "\n",
    "Youth who stayed homeless more than 1 year as our target / positive outcome:\n",
    "\n",
    "* Our model correctly predicted 326 times that the youth did not stay homeless more than 1 year.\n",
    "* Our model incorrectly predicted 12 times that youth stayed homeless more than 1 year when they actually did not.\n",
    "* Our model incorrectly predicted 170 times that youth did not stay homeless more than 1 year when they actually did.\n",
    "* Our model correctly predicted 8 times that youth stayed homeless more than 1 year.\n",
    "\n",
    "The model shows more capability in identifying negative cases than positive cases."
   ]
  },
  {
   "cell_type": "code",
   "execution_count": 14,
   "id": "b8a646bc",
   "metadata": {},
   "outputs": [],
   "source": [
    "preds1 = ada.predict(X_test)"
   ]
  },
  {
   "cell_type": "code",
   "execution_count": 25,
   "id": "98475c13",
   "metadata": {},
   "outputs": [
    {
     "name": "stdout",
     "output_type": "stream",
     "text": [
      "balanced_accuracy: 0.5047204308224187\n",
      "recall: 0.0449438202247191\n",
      "precision: 0.4\n",
      "f1 score: 0.08080808080808081\n"
     ]
    },
    {
     "data": {
      "image/png": "[encoded data removed]",
      "text/plain": [
       "<Figure size 640x480 with 2 Axes>"
      ]
     },
     "metadata": {},
     "output_type": "display_data"
    }
   ],
   "source": [
    "scores.append(evaluation(X_test, y_test, preds1, ada))"
   ]
  },
  {
   "cell_type": "markdown",
   "id": "c31c0213",
   "metadata": {},
   "source": [
    "## Oversample with Hypertuned AdaBoost"
   ]
  },
  {
   "cell_type": "code",
   "execution_count": 15,
   "id": "008505aa",
   "metadata": {},
   "outputs": [],
   "source": [
    "pipe = make_pipeline(RandomOverSampler(random_state=42),\n",
    "                     AdaBoostClassifier(random_state=42))"
   ]
  },
  {
   "cell_type": "code",
   "execution_count": 16,
   "id": "f094a98f",
   "metadata": {},
   "outputs": [],
   "source": [
    "# Define base estimator for AdaBoost\n",
    "base_estimator = DecisionTreeClassifier()"
   ]
  },
  {
   "cell_type": "code",
   "execution_count": 17,
   "id": "4a929d45",
   "metadata": {},
   "outputs": [],
   "source": [
    "param_grid = {\n",
    "    'randomoversampler__sampling_strategy': [.25, .5, .75, 1.0],\n",
    "    'adaboostclassifier__base_estimator': [base_estimator],  # Base estimator for AdaBoost\n",
    "    'adaboostclassifier__n_estimators': [50, 100, 150],  # Number of estimators (weak learners)\n",
    "    'adaboostclassifier__learning_rate': [0.1, 0.5, 1.0],  # Learning rate\n",
    "    'adaboostclassifier__algorithm': ['SAMME', 'SAMME.R']  # AdaBoost algorithm to use\n",
    "}"
   ]
  },
  {
   "cell_type": "code",
   "execution_count": 18,
   "id": "e75a3bdc",
   "metadata": {},
   "outputs": [],
   "source": [
    "gs = GridSearchCV(pipe,\n",
    "                 param_grid=param_grid,\n",
    "                 cv=5,\n",
    "                 n_jobs=-1)"
   ]
  },
  {
   "cell_type": "code",
   "execution_count": 19,
   "id": "276fcb3e",
   "metadata": {},
   "outputs": [
    {
     "name": "stderr",
     "output_type": "stream",
     "text": [
      "C:\\Users\\danie\\anaconda3\\Lib\\site-packages\\sklearn\\model_selection\\_validation.py:425: FitFailedWarning: \n",
      "180 fits failed out of a total of 360.\n",
      "The score on these train-test partitions for these parameters will be set to nan.\n",
      "If these failures are not expected, you can try to debug them by setting error_score='raise'.\n",
      "\n",
      "Below are more details about the failures:\n",
      "--------------------------------------------------------------------------------\n",
      "180 fits failed with the following error:\n",
      "Traceback (most recent call last):\n",
      "  File \"C:\\Users\\danie\\anaconda3\\Lib\\site-packages\\sklearn\\model_selection\\_validation.py\", line 732, in _fit_and_score\n",
      "    estimator.fit(X_train, y_train, **fit_params)\n",
      "  File \"C:\\Users\\danie\\anaconda3\\Lib\\site-packages\\sklearn\\base.py\", line 1151, in wrapper\n",
      "    return fit_method(estimator, *args, **kwargs)\n",
      "           ^^^^^^^^^^^^^^^^^^^^^^^^^^^^^^^^^^^^^^\n",
      "  File \"C:\\Users\\danie\\anaconda3\\Lib\\site-packages\\imblearn\\pipeline.py\", line 322, in fit\n",
      "    Xt, yt = self._fit(X, y, routed_params)\n",
      "             ^^^^^^^^^^^^^^^^^^^^^^^^^^^^^^\n",
      "  File \"C:\\Users\\danie\\anaconda3\\Lib\\site-packages\\imblearn\\pipeline.py\", line 258, in _fit\n",
      "    X, y, fitted_transformer = fit_resample_one_cached(\n",
      "                               ^^^^^^^^^^^^^^^^^^^^^^^^\n",
      "  File \"C:\\Users\\danie\\anaconda3\\Lib\\site-packages\\joblib\\memory.py\", line 349, in __call__\n",
      "    return self.func(*args, **kwargs)\n",
      "           ^^^^^^^^^^^^^^^^^^^^^^^^^^\n",
      "  File \"C:\\Users\\danie\\anaconda3\\Lib\\site-packages\\imblearn\\pipeline.py\", line 1050, in _fit_resample_one\n",
      "    X_res, y_res = sampler.fit_resample(X, y, **params.get(\"fit_resample\", {}))\n",
      "                   ^^^^^^^^^^^^^^^^^^^^^^^^^^^^^^^^^^^^^^^^^^^^^^^^^^^^^^^^^^^^\n",
      "  File \"C:\\Users\\danie\\anaconda3\\Lib\\site-packages\\imblearn\\base.py\", line 208, in fit_resample\n",
      "    return super().fit_resample(X, y)\n",
      "           ^^^^^^^^^^^^^^^^^^^^^^^^^^\n",
      "  File \"C:\\Users\\danie\\anaconda3\\Lib\\site-packages\\imblearn\\base.py\", line 108, in fit_resample\n",
      "    self.sampling_strategy_ = check_sampling_strategy(\n",
      "                              ^^^^^^^^^^^^^^^^^^^^^^^^\n",
      "  File \"C:\\Users\\danie\\anaconda3\\Lib\\site-packages\\imblearn\\utils\\_validation.py\", line 571, in check_sampling_strategy\n",
      "    _sampling_strategy_float(sampling_strategy, y, sampling_type).items()\n",
      "    ^^^^^^^^^^^^^^^^^^^^^^^^^^^^^^^^^^^^^^^^^^^^^^^^^^^^^^^^^^^^^\n",
      "  File \"C:\\Users\\danie\\anaconda3\\Lib\\site-packages\\imblearn\\utils\\_validation.py\", line 410, in _sampling_strategy_float\n",
      "    raise ValueError(\n",
      "ValueError: The specified ratio required to remove samples from the minority class while trying to generate new samples. Please increase the ratio.\n",
      "\n",
      "  warnings.warn(some_fits_failed_message, FitFailedWarning)\n",
      "C:\\Users\\danie\\anaconda3\\Lib\\site-packages\\sklearn\\model_selection\\_search.py:976: UserWarning: One or more of the test scores are non-finite: [       nan        nan 0.60069936 0.52163191        nan        nan\n",
      " 0.58953901 0.51386963        nan        nan 0.58953431 0.53231388\n",
      "        nan        nan 0.59390559 0.53571076        nan        nan\n",
      " 0.59487999 0.51629328        nan        nan 0.58856931 0.52454571\n",
      "        nan        nan 0.59099415 0.52260396        nan        nan\n",
      " 0.5919662  0.51920591        nan        nan 0.58468464 0.52988552\n",
      "        nan        nan 0.59535955 0.53280049        nan        nan\n",
      " 0.59730012 0.53231505        nan        nan 0.59584616 0.52406498\n",
      "        nan        nan 0.58953549 0.53037566        nan        nan\n",
      " 0.59050518 0.52163544        nan        nan 0.58953431 0.52309175\n",
      "        nan        nan 0.5890524  0.53280049        nan        nan\n",
      " 0.5943922  0.52600437        nan        nan 0.59147606 0.53377019]\n",
      "  warnings.warn(\n",
      "C:\\Users\\danie\\anaconda3\\Lib\\site-packages\\sklearn\\ensemble\\_base.py:156: FutureWarning: `base_estimator` was renamed to `estimator` in version 1.2 and will be removed in 1.4.\n",
      "  warnings.warn(\n"
     ]
    },
    {
     "data": {
      "text/html": [
       "<style>#sk-container-id-2 {color: black;}#sk-container-id-2 pre{padding: 0;}#sk-container-id-2 div.sk-toggleable {background-color: white;}#sk-container-id-2 label.sk-toggleable__label {cursor: pointer;display: block;width: 100%;margin-bottom: 0;padding: 0.3em;box-sizing: border-box;text-align: center;}#sk-container-id-2 label.sk-toggleable__label-arrow:before {content: \"▸\";float: left;margin-right: 0.25em;color: #696969;}#sk-container-id-2 label.sk-toggleable__label-arrow:hover:before {color: black;}#sk-container-id-2 div.sk-estimator:hover label.sk-toggleable__label-arrow:before {color: black;}#sk-container-id-2 div.sk-toggleable__content {max-height: 0;max-width: 0;overflow: hidden;text-align: left;background-color: #f0f8ff;}#sk-container-id-2 div.sk-toggleable__content pre {margin: 0.2em;color: black;border-radius: 0.25em;background-color: #f0f8ff;}#sk-container-id-2 input.sk-toggleable__control:checked~div.sk-toggleable__content {max-height: 200px;max-width: 100%;overflow: auto;}#sk-container-id-2 input.sk-toggleable__control:checked~label.sk-toggleable__label-arrow:before {content: \"▾\";}#sk-container-id-2 div.sk-estimator input.sk-toggleable__control:checked~label.sk-toggleable__label {background-color: #d4ebff;}#sk-container-id-2 div.sk-label input.sk-toggleable__control:checked~label.sk-toggleable__label {background-color: #d4ebff;}#sk-container-id-2 input.sk-hidden--visually {border: 0;clip: rect(1px 1px 1px 1px);clip: rect(1px, 1px, 1px, 1px);height: 1px;margin: -1px;overflow: hidden;padding: 0;position: absolute;width: 1px;}#sk-container-id-2 div.sk-estimator {font-family: monospace;background-color: #f0f8ff;border: 1px dotted black;border-radius: 0.25em;box-sizing: border-box;margin-bottom: 0.5em;}#sk-container-id-2 div.sk-estimator:hover {background-color: #d4ebff;}#sk-container-id-2 div.sk-parallel-item::after {content: \"\";width: 100%;border-bottom: 1px solid gray;flex-grow: 1;}#sk-container-id-2 div.sk-label:hover label.sk-toggleable__label {background-color: #d4ebff;}#sk-container-id-2 div.sk-serial::before {content: \"\";position: absolute;border-left: 1px solid gray;box-sizing: border-box;top: 0;bottom: 0;left: 50%;z-index: 0;}#sk-container-id-2 div.sk-serial {display: flex;flex-direction: column;align-items: center;background-color: white;padding-right: 0.2em;padding-left: 0.2em;position: relative;}#sk-container-id-2 div.sk-item {position: relative;z-index: 1;}#sk-container-id-2 div.sk-parallel {display: flex;align-items: stretch;justify-content: center;background-color: white;position: relative;}#sk-container-id-2 div.sk-item::before, #sk-container-id-2 div.sk-parallel-item::before {content: \"\";position: absolute;border-left: 1px solid gray;box-sizing: border-box;top: 0;bottom: 0;left: 50%;z-index: -1;}#sk-container-id-2 div.sk-parallel-item {display: flex;flex-direction: column;z-index: 1;position: relative;background-color: white;}#sk-container-id-2 div.sk-parallel-item:first-child::after {align-self: flex-end;width: 50%;}#sk-container-id-2 div.sk-parallel-item:last-child::after {align-self: flex-start;width: 50%;}#sk-container-id-2 div.sk-parallel-item:only-child::after {width: 0;}#sk-container-id-2 div.sk-dashed-wrapped {border: 1px dashed gray;margin: 0 0.4em 0.5em 0.4em;box-sizing: border-box;padding-bottom: 0.4em;background-color: white;}#sk-container-id-2 div.sk-label label {font-family: monospace;font-weight: bold;display: inline-block;line-height: 1.2em;}#sk-container-id-2 div.sk-label-container {text-align: center;}#sk-container-id-2 div.sk-container {/* jupyter's `normalize.less` sets `[hidden] { display: none; }` but bootstrap.min.css set `[hidden] { display: none !important; }` so we also need the `!important` here to be able to override the default hidden behavior on the sphinx rendered scikit-learn.org. See: https://github.com/scikit-learn/scikit-learn/issues/21755 */display: inline-block !important;position: relative;}#sk-container-id-2 div.sk-text-repr-fallback {display: none;}</style><div id=\"sk-container-id-2\" class=\"sk-top-container\"><div class=\"sk-text-repr-fallback\"><pre>GridSearchCV(cv=5,\n",
       "             estimator=Pipeline(steps=[(&#x27;randomoversampler&#x27;,\n",
       "                                        RandomOverSampler(random_state=42)),\n",
       "                                       (&#x27;adaboostclassifier&#x27;,\n",
       "                                        AdaBoostClassifier(random_state=42))]),\n",
       "             n_jobs=-1,\n",
       "             param_grid={&#x27;adaboostclassifier__algorithm&#x27;: [&#x27;SAMME&#x27;, &#x27;SAMME.R&#x27;],\n",
       "                         &#x27;adaboostclassifier__base_estimator&#x27;: [DecisionTreeClassifier()],\n",
       "                         &#x27;adaboostclassifier__learning_rate&#x27;: [0.1, 0.5, 1.0],\n",
       "                         &#x27;adaboostclassifier__n_estimators&#x27;: [50, 100, 150],\n",
       "                         &#x27;randomoversampler__sampling_strategy&#x27;: [0.25, 0.5,\n",
       "                                                                  0.75, 1.0]})</pre><b>In a Jupyter environment, please rerun this cell to show the HTML representation or trust the notebook. <br />On GitHub, the HTML representation is unable to render, please try loading this page with nbviewer.org.</b></div><div class=\"sk-container\" hidden><div class=\"sk-item sk-dashed-wrapped\"><div class=\"sk-label-container\"><div class=\"sk-label sk-toggleable\"><input class=\"sk-toggleable__control sk-hidden--visually\" id=\"sk-estimator-id-2\" type=\"checkbox\" ><label for=\"sk-estimator-id-2\" class=\"sk-toggleable__label sk-toggleable__label-arrow\">GridSearchCV</label><div class=\"sk-toggleable__content\"><pre>GridSearchCV(cv=5,\n",
       "             estimator=Pipeline(steps=[(&#x27;randomoversampler&#x27;,\n",
       "                                        RandomOverSampler(random_state=42)),\n",
       "                                       (&#x27;adaboostclassifier&#x27;,\n",
       "                                        AdaBoostClassifier(random_state=42))]),\n",
       "             n_jobs=-1,\n",
       "             param_grid={&#x27;adaboostclassifier__algorithm&#x27;: [&#x27;SAMME&#x27;, &#x27;SAMME.R&#x27;],\n",
       "                         &#x27;adaboostclassifier__base_estimator&#x27;: [DecisionTreeClassifier()],\n",
       "                         &#x27;adaboostclassifier__learning_rate&#x27;: [0.1, 0.5, 1.0],\n",
       "                         &#x27;adaboostclassifier__n_estimators&#x27;: [50, 100, 150],\n",
       "                         &#x27;randomoversampler__sampling_strategy&#x27;: [0.25, 0.5,\n",
       "                                                                  0.75, 1.0]})</pre></div></div></div><div class=\"sk-parallel\"><div class=\"sk-parallel-item\"><div class=\"sk-item\"><div class=\"sk-label-container\"><div class=\"sk-label sk-toggleable\"><input class=\"sk-toggleable__control sk-hidden--visually\" id=\"sk-estimator-id-3\" type=\"checkbox\" ><label for=\"sk-estimator-id-3\" class=\"sk-toggleable__label sk-toggleable__label-arrow\">estimator: Pipeline</label><div class=\"sk-toggleable__content\"><pre>Pipeline(steps=[(&#x27;randomoversampler&#x27;, RandomOverSampler(random_state=42)),\n",
       "                (&#x27;adaboostclassifier&#x27;, AdaBoostClassifier(random_state=42))])</pre></div></div></div><div class=\"sk-serial\"><div class=\"sk-item\"><div class=\"sk-serial\"><div class=\"sk-item\"><div class=\"sk-estimator sk-toggleable\"><input class=\"sk-toggleable__control sk-hidden--visually\" id=\"sk-estimator-id-4\" type=\"checkbox\" ><label for=\"sk-estimator-id-4\" class=\"sk-toggleable__label sk-toggleable__label-arrow\">RandomOverSampler</label><div class=\"sk-toggleable__content\"><pre>RandomOverSampler(random_state=42)</pre></div></div></div><div class=\"sk-item\"><div class=\"sk-estimator sk-toggleable\"><input class=\"sk-toggleable__control sk-hidden--visually\" id=\"sk-estimator-id-5\" type=\"checkbox\" ><label for=\"sk-estimator-id-5\" class=\"sk-toggleable__label sk-toggleable__label-arrow\">AdaBoostClassifier</label><div class=\"sk-toggleable__content\"><pre>AdaBoostClassifier(random_state=42)</pre></div></div></div></div></div></div></div></div></div></div></div></div>"
      ],
      "text/plain": [
       "GridSearchCV(cv=5,\n",
       "             estimator=Pipeline(steps=[('randomoversampler',\n",
       "                                        RandomOverSampler(random_state=42)),\n",
       "                                       ('adaboostclassifier',\n",
       "                                        AdaBoostClassifier(random_state=42))]),\n",
       "             n_jobs=-1,\n",
       "             param_grid={'adaboostclassifier__algorithm': ['SAMME', 'SAMME.R'],\n",
       "                         'adaboostclassifier__base_estimator': [DecisionTreeClassifier()],\n",
       "                         'adaboostclassifier__learning_rate': [0.1, 0.5, 1.0],\n",
       "                         'adaboostclassifier__n_estimators': [50, 100, 150],\n",
       "                         'randomoversampler__sampling_strategy': [0.25, 0.5,\n",
       "                                                                  0.75, 1.0]})"
      ]
     },
     "execution_count": 19,
     "metadata": {},
     "output_type": "execute_result"
    }
   ],
   "source": [
    "gs.fit(X_train, y_train)"
   ]
  },
  {
   "cell_type": "code",
   "execution_count": 20,
   "id": "a12d118c",
   "metadata": {},
   "outputs": [
    {
     "data": {
      "text/plain": [
       "0.6923823386705483"
      ]
     },
     "execution_count": 20,
     "metadata": {},
     "output_type": "execute_result"
    }
   ],
   "source": [
    "# train score\n",
    "gs.score(X_train, y_train)"
   ]
  },
  {
   "cell_type": "code",
   "execution_count": 21,
   "id": "b03c6dc3",
   "metadata": {},
   "outputs": [
    {
     "data": {
      "text/plain": [
       "0.6453488372093024"
      ]
     },
     "execution_count": 21,
     "metadata": {},
     "output_type": "execute_result"
    }
   ],
   "source": [
    "# test score\n",
    "gs.score(X_test, y_test)"
   ]
  },
  {
   "cell_type": "code",
   "execution_count": 23,
   "id": "6e706824",
   "metadata": {},
   "outputs": [
    {
     "data": {
      "image/png": "[encoded data removed]",
      "text/plain": [
       "<Figure size 640x480 with 2 Axes>"
      ]
     },
     "metadata": {},
     "output_type": "display_data"
    }
   ],
   "source": [
    "ConfusionMatrixDisplay.from_estimator(gs, X_test, y_test, cmap = 'Reds')\n",
    "\n",
    "# Get the axis of the plot\n",
    "ax = plt.gca()\n",
    "\n",
    "# Set the title\n",
    "ax.set_title('CM of Hypertuned Ada Boost Model with Oversampling');"
   ]
  },
  {
   "cell_type": "markdown",
   "id": "076dd6a3",
   "metadata": {},
   "source": [
    "# Confusion Matrix Interpretation of Ada Boost Model with Oversampling\n",
    "_________\n",
    "\n",
    "Youth who stayed homeless more than 1 year as our target / positive outcome:\n",
    "\n",
    "* Our model correctly predicted 281 times that the youth did not stay homeless more than 1 year.\n",
    "* Our model incorrectly predicted 57 times that youth stayed homeless more than 1 year when they actually did not.\n",
    "* Our model incorrectly predicted 126 times that youth did not stay homeless more than 1 year when they actually did.\n",
    "* Our model correctly predicted 52 times that youth stayed homeless more than 1 year.\n",
    "\n",
    "The model shows more capability in identifying negative cases than positive cases."
   ]
  },
  {
   "cell_type": "markdown",
   "id": "063a0a7b",
   "metadata": {},
   "source": [
    "## Grid search with balanced accuracy as scoring metric for Oversample\n"
   ]
  },
  {
   "cell_type": "code",
   "execution_count": 24,
   "id": "58e59ccf",
   "metadata": {},
   "outputs": [],
   "source": [
    "gs2 = GridSearchCV(pipe,\n",
    "                 param_grid=param_grid,\n",
    "                 cv=5,\n",
    "                 n_jobs=-1, \n",
    "                 scoring='balanced_accuracy')"
   ]
  },
  {
   "cell_type": "code",
   "execution_count": 25,
   "id": "af16e239",
   "metadata": {},
   "outputs": [
    {
     "name": "stderr",
     "output_type": "stream",
     "text": [
      "C:\\Users\\danie\\anaconda3\\Lib\\site-packages\\sklearn\\model_selection\\_validation.py:425: FitFailedWarning: \n",
      "180 fits failed out of a total of 360.\n",
      "The score on these train-test partitions for these parameters will be set to nan.\n",
      "If these failures are not expected, you can try to debug them by setting error_score='raise'.\n",
      "\n",
      "Below are more details about the failures:\n",
      "--------------------------------------------------------------------------------\n",
      "180 fits failed with the following error:\n",
      "Traceback (most recent call last):\n",
      "  File \"C:\\Users\\danie\\anaconda3\\Lib\\site-packages\\sklearn\\model_selection\\_validation.py\", line 732, in _fit_and_score\n",
      "    estimator.fit(X_train, y_train, **fit_params)\n",
      "  File \"C:\\Users\\danie\\anaconda3\\Lib\\site-packages\\sklearn\\base.py\", line 1151, in wrapper\n",
      "    return fit_method(estimator, *args, **kwargs)\n",
      "           ^^^^^^^^^^^^^^^^^^^^^^^^^^^^^^^^^^^^^^\n",
      "  File \"C:\\Users\\danie\\anaconda3\\Lib\\site-packages\\imblearn\\pipeline.py\", line 322, in fit\n",
      "    Xt, yt = self._fit(X, y, routed_params)\n",
      "             ^^^^^^^^^^^^^^^^^^^^^^^^^^^^^^\n",
      "  File \"C:\\Users\\danie\\anaconda3\\Lib\\site-packages\\imblearn\\pipeline.py\", line 258, in _fit\n",
      "    X, y, fitted_transformer = fit_resample_one_cached(\n",
      "                               ^^^^^^^^^^^^^^^^^^^^^^^^\n",
      "  File \"C:\\Users\\danie\\anaconda3\\Lib\\site-packages\\joblib\\memory.py\", line 349, in __call__\n",
      "    return self.func(*args, **kwargs)\n",
      "           ^^^^^^^^^^^^^^^^^^^^^^^^^^\n",
      "  File \"C:\\Users\\danie\\anaconda3\\Lib\\site-packages\\imblearn\\pipeline.py\", line 1050, in _fit_resample_one\n",
      "    X_res, y_res = sampler.fit_resample(X, y, **params.get(\"fit_resample\", {}))\n",
      "                   ^^^^^^^^^^^^^^^^^^^^^^^^^^^^^^^^^^^^^^^^^^^^^^^^^^^^^^^^^^^^\n",
      "  File \"C:\\Users\\danie\\anaconda3\\Lib\\site-packages\\imblearn\\base.py\", line 208, in fit_resample\n",
      "    return super().fit_resample(X, y)\n",
      "           ^^^^^^^^^^^^^^^^^^^^^^^^^^\n",
      "  File \"C:\\Users\\danie\\anaconda3\\Lib\\site-packages\\imblearn\\base.py\", line 108, in fit_resample\n",
      "    self.sampling_strategy_ = check_sampling_strategy(\n",
      "                              ^^^^^^^^^^^^^^^^^^^^^^^^\n",
      "  File \"C:\\Users\\danie\\anaconda3\\Lib\\site-packages\\imblearn\\utils\\_validation.py\", line 571, in check_sampling_strategy\n",
      "    _sampling_strategy_float(sampling_strategy, y, sampling_type).items()\n",
      "    ^^^^^^^^^^^^^^^^^^^^^^^^^^^^^^^^^^^^^^^^^^^^^^^^^^^^^^^^^^^^^\n",
      "  File \"C:\\Users\\danie\\anaconda3\\Lib\\site-packages\\imblearn\\utils\\_validation.py\", line 410, in _sampling_strategy_float\n",
      "    raise ValueError(\n",
      "ValueError: The specified ratio required to remove samples from the minority class while trying to generate new samples. Please increase the ratio.\n",
      "\n",
      "  warnings.warn(some_fits_failed_message, FitFailedWarning)\n",
      "C:\\Users\\danie\\anaconda3\\Lib\\site-packages\\sklearn\\model_selection\\_search.py:976: UserWarning: One or more of the test scores are non-finite: [       nan        nan 0.52000289 0.52385157        nan        nan\n",
      " 0.51650586 0.52160762        nan        nan 0.51415384 0.52532262\n",
      "        nan        nan 0.51648834 0.52791385        nan        nan\n",
      " 0.51523962 0.52511781        nan        nan 0.51610034 0.52540472\n",
      "        nan        nan 0.51327412 0.52559251        nan        nan\n",
      " 0.51368238 0.5246692         nan        nan 0.51113152 0.52513868\n",
      "        nan        nan 0.5115887  0.52602685        nan        nan\n",
      " 0.51340267 0.52565648        nan        nan 0.5149706  0.52804588\n",
      "        nan        nan 0.51182369 0.53119142        nan        nan\n",
      " 0.51323077 0.52485724        nan        nan 0.51282389 0.52696992\n",
      "        nan        nan 0.51045449 0.53438006        nan        nan\n",
      " 0.51285929 0.52886102        nan        nan 0.5153124  0.5311077 ]\n",
      "  warnings.warn(\n",
      "C:\\Users\\danie\\anaconda3\\Lib\\site-packages\\sklearn\\ensemble\\_base.py:156: FutureWarning: `base_estimator` was renamed to `estimator` in version 1.2 and will be removed in 1.4.\n",
      "  warnings.warn(\n"
     ]
    },
    {
     "data": {
      "text/html": [
       "<style>#sk-container-id-3 {color: black;}#sk-container-id-3 pre{padding: 0;}#sk-container-id-3 div.sk-toggleable {background-color: white;}#sk-container-id-3 label.sk-toggleable__label {cursor: pointer;display: block;width: 100%;margin-bottom: 0;padding: 0.3em;box-sizing: border-box;text-align: center;}#sk-container-id-3 label.sk-toggleable__label-arrow:before {content: \"▸\";float: left;margin-right: 0.25em;color: #696969;}#sk-container-id-3 label.sk-toggleable__label-arrow:hover:before {color: black;}#sk-container-id-3 div.sk-estimator:hover label.sk-toggleable__label-arrow:before {color: black;}#sk-container-id-3 div.sk-toggleable__content {max-height: 0;max-width: 0;overflow: hidden;text-align: left;background-color: #f0f8ff;}#sk-container-id-3 div.sk-toggleable__content pre {margin: 0.2em;color: black;border-radius: 0.25em;background-color: #f0f8ff;}#sk-container-id-3 input.sk-toggleable__control:checked~div.sk-toggleable__content {max-height: 200px;max-width: 100%;overflow: auto;}#sk-container-id-3 input.sk-toggleable__control:checked~label.sk-toggleable__label-arrow:before {content: \"▾\";}#sk-container-id-3 div.sk-estimator input.sk-toggleable__control:checked~label.sk-toggleable__label {background-color: #d4ebff;}#sk-container-id-3 div.sk-label input.sk-toggleable__control:checked~label.sk-toggleable__label {background-color: #d4ebff;}#sk-container-id-3 input.sk-hidden--visually {border: 0;clip: rect(1px 1px 1px 1px);clip: rect(1px, 1px, 1px, 1px);height: 1px;margin: -1px;overflow: hidden;padding: 0;position: absolute;width: 1px;}#sk-container-id-3 div.sk-estimator {font-family: monospace;background-color: #f0f8ff;border: 1px dotted black;border-radius: 0.25em;box-sizing: border-box;margin-bottom: 0.5em;}#sk-container-id-3 div.sk-estimator:hover {background-color: #d4ebff;}#sk-container-id-3 div.sk-parallel-item::after {content: \"\";width: 100%;border-bottom: 1px solid gray;flex-grow: 1;}#sk-container-id-3 div.sk-label:hover label.sk-toggleable__label {background-color: #d4ebff;}#sk-container-id-3 div.sk-serial::before {content: \"\";position: absolute;border-left: 1px solid gray;box-sizing: border-box;top: 0;bottom: 0;left: 50%;z-index: 0;}#sk-container-id-3 div.sk-serial {display: flex;flex-direction: column;align-items: center;background-color: white;padding-right: 0.2em;padding-left: 0.2em;position: relative;}#sk-container-id-3 div.sk-item {position: relative;z-index: 1;}#sk-container-id-3 div.sk-parallel {display: flex;align-items: stretch;justify-content: center;background-color: white;position: relative;}#sk-container-id-3 div.sk-item::before, #sk-container-id-3 div.sk-parallel-item::before {content: \"\";position: absolute;border-left: 1px solid gray;box-sizing: border-box;top: 0;bottom: 0;left: 50%;z-index: -1;}#sk-container-id-3 div.sk-parallel-item {display: flex;flex-direction: column;z-index: 1;position: relative;background-color: white;}#sk-container-id-3 div.sk-parallel-item:first-child::after {align-self: flex-end;width: 50%;}#sk-container-id-3 div.sk-parallel-item:last-child::after {align-self: flex-start;width: 50%;}#sk-container-id-3 div.sk-parallel-item:only-child::after {width: 0;}#sk-container-id-3 div.sk-dashed-wrapped {border: 1px dashed gray;margin: 0 0.4em 0.5em 0.4em;box-sizing: border-box;padding-bottom: 0.4em;background-color: white;}#sk-container-id-3 div.sk-label label {font-family: monospace;font-weight: bold;display: inline-block;line-height: 1.2em;}#sk-container-id-3 div.sk-label-container {text-align: center;}#sk-container-id-3 div.sk-container {/* jupyter's `normalize.less` sets `[hidden] { display: none; }` but bootstrap.min.css set `[hidden] { display: none !important; }` so we also need the `!important` here to be able to override the default hidden behavior on the sphinx rendered scikit-learn.org. See: https://github.com/scikit-learn/scikit-learn/issues/21755 */display: inline-block !important;position: relative;}#sk-container-id-3 div.sk-text-repr-fallback {display: none;}</style><div id=\"sk-container-id-3\" class=\"sk-top-container\"><div class=\"sk-text-repr-fallback\"><pre>GridSearchCV(cv=5,\n",
       "             estimator=Pipeline(steps=[(&#x27;randomoversampler&#x27;,\n",
       "                                        RandomOverSampler(random_state=42)),\n",
       "                                       (&#x27;adaboostclassifier&#x27;,\n",
       "                                        AdaBoostClassifier(random_state=42))]),\n",
       "             n_jobs=-1,\n",
       "             param_grid={&#x27;adaboostclassifier__algorithm&#x27;: [&#x27;SAMME&#x27;, &#x27;SAMME.R&#x27;],\n",
       "                         &#x27;adaboostclassifier__base_estimator&#x27;: [DecisionTreeClassifier()],\n",
       "                         &#x27;adaboostclassifier__learning_rate&#x27;: [0.1, 0.5, 1.0],\n",
       "                         &#x27;adaboostclassifier__n_estimators&#x27;: [50, 100, 150],\n",
       "                         &#x27;randomoversampler__sampling_strategy&#x27;: [0.25, 0.5,\n",
       "                                                                  0.75, 1.0]},\n",
       "             scoring=&#x27;balanced_accuracy&#x27;)</pre><b>In a Jupyter environment, please rerun this cell to show the HTML representation or trust the notebook. <br />On GitHub, the HTML representation is unable to render, please try loading this page with nbviewer.org.</b></div><div class=\"sk-container\" hidden><div class=\"sk-item sk-dashed-wrapped\"><div class=\"sk-label-container\"><div class=\"sk-label sk-toggleable\"><input class=\"sk-toggleable__control sk-hidden--visually\" id=\"sk-estimator-id-6\" type=\"checkbox\" ><label for=\"sk-estimator-id-6\" class=\"sk-toggleable__label sk-toggleable__label-arrow\">GridSearchCV</label><div class=\"sk-toggleable__content\"><pre>GridSearchCV(cv=5,\n",
       "             estimator=Pipeline(steps=[(&#x27;randomoversampler&#x27;,\n",
       "                                        RandomOverSampler(random_state=42)),\n",
       "                                       (&#x27;adaboostclassifier&#x27;,\n",
       "                                        AdaBoostClassifier(random_state=42))]),\n",
       "             n_jobs=-1,\n",
       "             param_grid={&#x27;adaboostclassifier__algorithm&#x27;: [&#x27;SAMME&#x27;, &#x27;SAMME.R&#x27;],\n",
       "                         &#x27;adaboostclassifier__base_estimator&#x27;: [DecisionTreeClassifier()],\n",
       "                         &#x27;adaboostclassifier__learning_rate&#x27;: [0.1, 0.5, 1.0],\n",
       "                         &#x27;adaboostclassifier__n_estimators&#x27;: [50, 100, 150],\n",
       "                         &#x27;randomoversampler__sampling_strategy&#x27;: [0.25, 0.5,\n",
       "                                                                  0.75, 1.0]},\n",
       "             scoring=&#x27;balanced_accuracy&#x27;)</pre></div></div></div><div class=\"sk-parallel\"><div class=\"sk-parallel-item\"><div class=\"sk-item\"><div class=\"sk-label-container\"><div class=\"sk-label sk-toggleable\"><input class=\"sk-toggleable__control sk-hidden--visually\" id=\"sk-estimator-id-7\" type=\"checkbox\" ><label for=\"sk-estimator-id-7\" class=\"sk-toggleable__label sk-toggleable__label-arrow\">estimator: Pipeline</label><div class=\"sk-toggleable__content\"><pre>Pipeline(steps=[(&#x27;randomoversampler&#x27;, RandomOverSampler(random_state=42)),\n",
       "                (&#x27;adaboostclassifier&#x27;, AdaBoostClassifier(random_state=42))])</pre></div></div></div><div class=\"sk-serial\"><div class=\"sk-item\"><div class=\"sk-serial\"><div class=\"sk-item\"><div class=\"sk-estimator sk-toggleable\"><input class=\"sk-toggleable__control sk-hidden--visually\" id=\"sk-estimator-id-8\" type=\"checkbox\" ><label for=\"sk-estimator-id-8\" class=\"sk-toggleable__label sk-toggleable__label-arrow\">RandomOverSampler</label><div class=\"sk-toggleable__content\"><pre>RandomOverSampler(random_state=42)</pre></div></div></div><div class=\"sk-item\"><div class=\"sk-estimator sk-toggleable\"><input class=\"sk-toggleable__control sk-hidden--visually\" id=\"sk-estimator-id-9\" type=\"checkbox\" ><label for=\"sk-estimator-id-9\" class=\"sk-toggleable__label sk-toggleable__label-arrow\">AdaBoostClassifier</label><div class=\"sk-toggleable__content\"><pre>AdaBoostClassifier(random_state=42)</pre></div></div></div></div></div></div></div></div></div></div></div></div>"
      ],
      "text/plain": [
       "GridSearchCV(cv=5,\n",
       "             estimator=Pipeline(steps=[('randomoversampler',\n",
       "                                        RandomOverSampler(random_state=42)),\n",
       "                                       ('adaboostclassifier',\n",
       "                                        AdaBoostClassifier(random_state=42))]),\n",
       "             n_jobs=-1,\n",
       "             param_grid={'adaboostclassifier__algorithm': ['SAMME', 'SAMME.R'],\n",
       "                         'adaboostclassifier__base_estimator': [DecisionTreeClassifier()],\n",
       "                         'adaboostclassifier__learning_rate': [0.1, 0.5, 1.0],\n",
       "                         'adaboostclassifier__n_estimators': [50, 100, 150],\n",
       "                         'randomoversampler__sampling_strategy': [0.25, 0.5,\n",
       "                                                                  0.75, 1.0]},\n",
       "             scoring='balanced_accuracy')"
      ]
     },
     "execution_count": 25,
     "metadata": {},
     "output_type": "execute_result"
    }
   ],
   "source": [
    "gs2.fit(X_train, y_train)"
   ]
  },
  {
   "cell_type": "code",
   "execution_count": 26,
   "id": "54b6c333",
   "metadata": {},
   "outputs": [
    {
     "data": {
      "text/plain": [
       "0.6371785114834083"
      ]
     },
     "execution_count": 26,
     "metadata": {},
     "output_type": "execute_result"
    }
   ],
   "source": [
    "# train score\n",
    "gs2.score(X_train, y_train)"
   ]
  },
  {
   "cell_type": "code",
   "execution_count": 27,
   "id": "a36c6fb8",
   "metadata": {},
   "outputs": [
    {
     "data": {
      "text/plain": [
       "0.5628781331028522"
      ]
     },
     "execution_count": 27,
     "metadata": {},
     "output_type": "execute_result"
    }
   ],
   "source": [
    "# test score\n",
    "gs2.score(X_test, y_test)"
   ]
  },
  {
   "cell_type": "code",
   "execution_count": 28,
   "id": "3f89cab2",
   "metadata": {},
   "outputs": [],
   "source": [
    "# making prediction\n",
    "preds2 = gs2.predict(X_test)"
   ]
  },
  {
   "cell_type": "code",
   "execution_count": 29,
   "id": "f80b6e15",
   "metadata": {},
   "outputs": [
    {
     "data": {
      "image/png": "[encoded data removed]",
      "text/plain": [
       "<Figure size 640x480 with 2 Axes>"
      ]
     },
     "metadata": {},
     "output_type": "display_data"
    }
   ],
   "source": [
    "ConfusionMatrixDisplay.from_estimator(gs2, X_test, y_test, cmap = 'Reds')\n",
    "\n",
    "# Get the axis of the plot\n",
    "ax = plt.gca()\n",
    "\n",
    "# Set the title\n",
    "ax.set_title('CM of Balanced Accuracy with Oversampling Ada Boost Model');"
   ]
  },
  {
   "cell_type": "code",
   "execution_count": 38,
   "id": "44ed8339",
   "metadata": {},
   "outputs": [
    {
     "name": "stdout",
     "output_type": "stream",
     "text": [
      "balanced_accuracy: 0.5628781331028522\n",
      "recall: 0.47191011235955055\n",
      "precision: 0.417910447761194\n",
      "f1 score: 0.4432717678100264\n"
     ]
    },
    {
     "data": {
      "image/png": "[encoded data removed]",
      "text/plain": [
       "<Figure size 640x480 with 2 Axes>"
      ]
     },
     "metadata": {},
     "output_type": "display_data"
    }
   ],
   "source": [
    "# making prediction\n",
    "# preds2 = gs2.predict(X_test)\n",
    "\n",
    "# evaluating the model\n",
    "\n",
    "scores.append(evaluation(X_test, y_test, preds2, gs2))"
   ]
  },
  {
   "cell_type": "markdown",
   "id": "7f734b90",
   "metadata": {},
   "source": [
    "# Confusion Matrix of Balanced Accuracy with Oversampling Ada Boost Model\n",
    "_________\n",
    "\n",
    "Youth who stayed homeless more than 1 year as our target / positive outcome:\n",
    "\n",
    "* Our model correctly predicted 221 times that the youth did not stay homeless more than 1 year.\n",
    "* Our model incorrectly predicted 117 times that youth stayed homeless more than 1 year when they actually did not.\n",
    "* Our model incorrectly predicted 94 times that youth did not stay homeless more than 1 year when they actually did.\n",
    "* Our model correctly predicted 84 times that youth stayed homeless more than 1 year.\n",
    "\n",
    "The model shows more capability in identifying negative cases than positive cases.\n",
    "\n",
    "* For balanced accuracy, the model's overall performance in terms of correctly classifying both positive and negative cases is moderate.\n",
    "* For recall, the model correctly identified approximately 47.19% of the youth who stayed homeless more than 1 year.\n",
    "* For out of all the cases predicted as youth staying homeless more than 1 year, approximately 41.79% were actually true positives.\n",
    "* For the F1 score, it indicates a balance between precision and recall."
   ]
  },
  {
   "cell_type": "code",
   "execution_count": 39,
   "id": "354140c3",
   "metadata": {},
   "outputs": [
    {
     "data": {
      "text/html": [
       "<div>\n",
       "<style scoped>\n",
       "    .dataframe tbody tr th:only-of-type {\n",
       "        vertical-align: middle;\n",
       "    }\n",
       "\n",
       "    .dataframe tbody tr th {\n",
       "        vertical-align: top;\n",
       "    }\n",
       "\n",
       "    .dataframe thead th {\n",
       "        text-align: right;\n",
       "    }\n",
       "</style>\n",
       "<table border=\"1\" class=\"dataframe\">\n",
       "  <thead>\n",
       "    <tr style=\"text-align: right;\">\n",
       "      <th></th>\n",
       "      <th>balanced_accuracy</th>\n",
       "      <th>recall</th>\n",
       "      <th>precision</th>\n",
       "      <th>f1_score</th>\n",
       "    </tr>\n",
       "  </thead>\n",
       "  <tbody>\n",
       "    <tr>\n",
       "      <th>ada</th>\n",
       "      <td>0.504720</td>\n",
       "      <td>0.044944</td>\n",
       "      <td>0.40000</td>\n",
       "      <td>0.080808</td>\n",
       "    </tr>\n",
       "    <tr>\n",
       "      <th>RandomOverSampler</th>\n",
       "      <td>0.562878</td>\n",
       "      <td>0.471910</td>\n",
       "      <td>0.41791</td>\n",
       "      <td>0.443272</td>\n",
       "    </tr>\n",
       "  </tbody>\n",
       "</table>\n",
       "</div>"
      ],
      "text/plain": [
       "                   balanced_accuracy    recall  precision  f1_score\n",
       "ada                         0.504720  0.044944    0.40000  0.080808\n",
       "RandomOverSampler           0.562878  0.471910    0.41791  0.443272"
      ]
     },
     "execution_count": 39,
     "metadata": {},
     "output_type": "execute_result"
    }
   ],
   "source": [
    "pd.DataFrame(scores, index=['ada', 'RandomOverSampler'])"
   ]
  },
  {
   "cell_type": "markdown",
   "id": "0a66a157",
   "metadata": {},
   "source": [
    "## SMOTEN Method for Hypertuned AdaBoost"
   ]
  },
  {
   "cell_type": "code",
   "execution_count": 30,
   "id": "565b3544",
   "metadata": {},
   "outputs": [],
   "source": [
    "pipe3 = make_pipeline(SMOTEN(random_state=42), AdaBoostClassifier(random_state=42))"
   ]
  },
  {
   "cell_type": "code",
   "execution_count": 31,
   "id": "1cac818f",
   "metadata": {},
   "outputs": [],
   "source": [
    "param_grid3 = {\n",
    "    'smoten__k_neighbors' : [3, 5, 7],\n",
    "    'adaboostclassifier__base_estimator': [base_estimator],  # Base estimator for AdaBoost\n",
    "    'adaboostclassifier__n_estimators': [50, 100, 150],  # Number of estimators (weak learners)\n",
    "    'adaboostclassifier__learning_rate': [0.1, 0.5, 1.0],  # Learning rate\n",
    "    'adaboostclassifier__algorithm': ['SAMME', 'SAMME.R']  # AdaBoost algorithm to use\n",
    "}"
   ]
  },
  {
   "cell_type": "code",
   "execution_count": 32,
   "id": "3a0142a7",
   "metadata": {},
   "outputs": [],
   "source": [
    "gs3 = GridSearchCV(pipe3,\n",
    "                 param_grid=param_grid3,\n",
    "                 cv=5,\n",
    "                 n_jobs=-1, \n",
    "                 scoring='balanced_accuracy')"
   ]
  },
  {
   "cell_type": "code",
   "execution_count": 33,
   "id": "647ddd89",
   "metadata": {},
   "outputs": [
    {
     "name": "stderr",
     "output_type": "stream",
     "text": [
      "C:\\Users\\danie\\anaconda3\\Lib\\site-packages\\sklearn\\ensemble\\_base.py:156: FutureWarning: `base_estimator` was renamed to `estimator` in version 1.2 and will be removed in 1.4.\n",
      "  warnings.warn(\n"
     ]
    },
    {
     "data": {
      "text/html": [
       "<style>#sk-container-id-4 {color: black;}#sk-container-id-4 pre{padding: 0;}#sk-container-id-4 div.sk-toggleable {background-color: white;}#sk-container-id-4 label.sk-toggleable__label {cursor: pointer;display: block;width: 100%;margin-bottom: 0;padding: 0.3em;box-sizing: border-box;text-align: center;}#sk-container-id-4 label.sk-toggleable__label-arrow:before {content: \"▸\";float: left;margin-right: 0.25em;color: #696969;}#sk-container-id-4 label.sk-toggleable__label-arrow:hover:before {color: black;}#sk-container-id-4 div.sk-estimator:hover label.sk-toggleable__label-arrow:before {color: black;}#sk-container-id-4 div.sk-toggleable__content {max-height: 0;max-width: 0;overflow: hidden;text-align: left;background-color: #f0f8ff;}#sk-container-id-4 div.sk-toggleable__content pre {margin: 0.2em;color: black;border-radius: 0.25em;background-color: #f0f8ff;}#sk-container-id-4 input.sk-toggleable__control:checked~div.sk-toggleable__content {max-height: 200px;max-width: 100%;overflow: auto;}#sk-container-id-4 input.sk-toggleable__control:checked~label.sk-toggleable__label-arrow:before {content: \"▾\";}#sk-container-id-4 div.sk-estimator input.sk-toggleable__control:checked~label.sk-toggleable__label {background-color: #d4ebff;}#sk-container-id-4 div.sk-label input.sk-toggleable__control:checked~label.sk-toggleable__label {background-color: #d4ebff;}#sk-container-id-4 input.sk-hidden--visually {border: 0;clip: rect(1px 1px 1px 1px);clip: rect(1px, 1px, 1px, 1px);height: 1px;margin: -1px;overflow: hidden;padding: 0;position: absolute;width: 1px;}#sk-container-id-4 div.sk-estimator {font-family: monospace;background-color: #f0f8ff;border: 1px dotted black;border-radius: 0.25em;box-sizing: border-box;margin-bottom: 0.5em;}#sk-container-id-4 div.sk-estimator:hover {background-color: #d4ebff;}#sk-container-id-4 div.sk-parallel-item::after {content: \"\";width: 100%;border-bottom: 1px solid gray;flex-grow: 1;}#sk-container-id-4 div.sk-label:hover label.sk-toggleable__label {background-color: #d4ebff;}#sk-container-id-4 div.sk-serial::before {content: \"\";position: absolute;border-left: 1px solid gray;box-sizing: border-box;top: 0;bottom: 0;left: 50%;z-index: 0;}#sk-container-id-4 div.sk-serial {display: flex;flex-direction: column;align-items: center;background-color: white;padding-right: 0.2em;padding-left: 0.2em;position: relative;}#sk-container-id-4 div.sk-item {position: relative;z-index: 1;}#sk-container-id-4 div.sk-parallel {display: flex;align-items: stretch;justify-content: center;background-color: white;position: relative;}#sk-container-id-4 div.sk-item::before, #sk-container-id-4 div.sk-parallel-item::before {content: \"\";position: absolute;border-left: 1px solid gray;box-sizing: border-box;top: 0;bottom: 0;left: 50%;z-index: -1;}#sk-container-id-4 div.sk-parallel-item {display: flex;flex-direction: column;z-index: 1;position: relative;background-color: white;}#sk-container-id-4 div.sk-parallel-item:first-child::after {align-self: flex-end;width: 50%;}#sk-container-id-4 div.sk-parallel-item:last-child::after {align-self: flex-start;width: 50%;}#sk-container-id-4 div.sk-parallel-item:only-child::after {width: 0;}#sk-container-id-4 div.sk-dashed-wrapped {border: 1px dashed gray;margin: 0 0.4em 0.5em 0.4em;box-sizing: border-box;padding-bottom: 0.4em;background-color: white;}#sk-container-id-4 div.sk-label label {font-family: monospace;font-weight: bold;display: inline-block;line-height: 1.2em;}#sk-container-id-4 div.sk-label-container {text-align: center;}#sk-container-id-4 div.sk-container {/* jupyter's `normalize.less` sets `[hidden] { display: none; }` but bootstrap.min.css set `[hidden] { display: none !important; }` so we also need the `!important` here to be able to override the default hidden behavior on the sphinx rendered scikit-learn.org. See: https://github.com/scikit-learn/scikit-learn/issues/21755 */display: inline-block !important;position: relative;}#sk-container-id-4 div.sk-text-repr-fallback {display: none;}</style><div id=\"sk-container-id-4\" class=\"sk-top-container\"><div class=\"sk-text-repr-fallback\"><pre>GridSearchCV(cv=5,\n",
       "             estimator=Pipeline(steps=[(&#x27;smoten&#x27;, SMOTEN(random_state=42)),\n",
       "                                       (&#x27;adaboostclassifier&#x27;,\n",
       "                                        AdaBoostClassifier(random_state=42))]),\n",
       "             n_jobs=-1,\n",
       "             param_grid={&#x27;adaboostclassifier__algorithm&#x27;: [&#x27;SAMME&#x27;, &#x27;SAMME.R&#x27;],\n",
       "                         &#x27;adaboostclassifier__base_estimator&#x27;: [DecisionTreeClassifier()],\n",
       "                         &#x27;adaboostclassifier__learning_rate&#x27;: [0.1, 0.5, 1.0],\n",
       "                         &#x27;adaboostclassifier__n_estimators&#x27;: [50, 100, 150],\n",
       "                         &#x27;smoten__k_neighbors&#x27;: [3, 5, 7]},\n",
       "             scoring=&#x27;balanced_accuracy&#x27;)</pre><b>In a Jupyter environment, please rerun this cell to show the HTML representation or trust the notebook. <br />On GitHub, the HTML representation is unable to render, please try loading this page with nbviewer.org.</b></div><div class=\"sk-container\" hidden><div class=\"sk-item sk-dashed-wrapped\"><div class=\"sk-label-container\"><div class=\"sk-label sk-toggleable\"><input class=\"sk-toggleable__control sk-hidden--visually\" id=\"sk-estimator-id-10\" type=\"checkbox\" ><label for=\"sk-estimator-id-10\" class=\"sk-toggleable__label sk-toggleable__label-arrow\">GridSearchCV</label><div class=\"sk-toggleable__content\"><pre>GridSearchCV(cv=5,\n",
       "             estimator=Pipeline(steps=[(&#x27;smoten&#x27;, SMOTEN(random_state=42)),\n",
       "                                       (&#x27;adaboostclassifier&#x27;,\n",
       "                                        AdaBoostClassifier(random_state=42))]),\n",
       "             n_jobs=-1,\n",
       "             param_grid={&#x27;adaboostclassifier__algorithm&#x27;: [&#x27;SAMME&#x27;, &#x27;SAMME.R&#x27;],\n",
       "                         &#x27;adaboostclassifier__base_estimator&#x27;: [DecisionTreeClassifier()],\n",
       "                         &#x27;adaboostclassifier__learning_rate&#x27;: [0.1, 0.5, 1.0],\n",
       "                         &#x27;adaboostclassifier__n_estimators&#x27;: [50, 100, 150],\n",
       "                         &#x27;smoten__k_neighbors&#x27;: [3, 5, 7]},\n",
       "             scoring=&#x27;balanced_accuracy&#x27;)</pre></div></div></div><div class=\"sk-parallel\"><div class=\"sk-parallel-item\"><div class=\"sk-item\"><div class=\"sk-label-container\"><div class=\"sk-label sk-toggleable\"><input class=\"sk-toggleable__control sk-hidden--visually\" id=\"sk-estimator-id-11\" type=\"checkbox\" ><label for=\"sk-estimator-id-11\" class=\"sk-toggleable__label sk-toggleable__label-arrow\">estimator: Pipeline</label><div class=\"sk-toggleable__content\"><pre>Pipeline(steps=[(&#x27;smoten&#x27;, SMOTEN(random_state=42)),\n",
       "                (&#x27;adaboostclassifier&#x27;, AdaBoostClassifier(random_state=42))])</pre></div></div></div><div class=\"sk-serial\"><div class=\"sk-item\"><div class=\"sk-serial\"><div class=\"sk-item\"><div class=\"sk-estimator sk-toggleable\"><input class=\"sk-toggleable__control sk-hidden--visually\" id=\"sk-estimator-id-12\" type=\"checkbox\" ><label for=\"sk-estimator-id-12\" class=\"sk-toggleable__label sk-toggleable__label-arrow\">SMOTEN</label><div class=\"sk-toggleable__content\"><pre>SMOTEN(random_state=42)</pre></div></div></div><div class=\"sk-item\"><div class=\"sk-estimator sk-toggleable\"><input class=\"sk-toggleable__control sk-hidden--visually\" id=\"sk-estimator-id-13\" type=\"checkbox\" ><label for=\"sk-estimator-id-13\" class=\"sk-toggleable__label sk-toggleable__label-arrow\">AdaBoostClassifier</label><div class=\"sk-toggleable__content\"><pre>AdaBoostClassifier(random_state=42)</pre></div></div></div></div></div></div></div></div></div></div></div></div>"
      ],
      "text/plain": [
       "GridSearchCV(cv=5,\n",
       "             estimator=Pipeline(steps=[('smoten', SMOTEN(random_state=42)),\n",
       "                                       ('adaboostclassifier',\n",
       "                                        AdaBoostClassifier(random_state=42))]),\n",
       "             n_jobs=-1,\n",
       "             param_grid={'adaboostclassifier__algorithm': ['SAMME', 'SAMME.R'],\n",
       "                         'adaboostclassifier__base_estimator': [DecisionTreeClassifier()],\n",
       "                         'adaboostclassifier__learning_rate': [0.1, 0.5, 1.0],\n",
       "                         'adaboostclassifier__n_estimators': [50, 100, 150],\n",
       "                         'smoten__k_neighbors': [3, 5, 7]},\n",
       "             scoring='balanced_accuracy')"
      ]
     },
     "execution_count": 33,
     "metadata": {},
     "output_type": "execute_result"
    }
   ],
   "source": [
    "gs3.fit(X_train, y_train)"
   ]
  },
  {
   "cell_type": "code",
   "execution_count": 34,
   "id": "8d9b9c2f",
   "metadata": {},
   "outputs": [
    {
     "data": {
      "text/plain": [
       "0.633005285599608"
      ]
     },
     "execution_count": 34,
     "metadata": {},
     "output_type": "execute_result"
    }
   ],
   "source": [
    "# train score\n",
    "gs3.score(X_train, y_train)"
   ]
  },
  {
   "cell_type": "code",
   "execution_count": 35,
   "id": "efa96ae6",
   "metadata": {},
   "outputs": [
    {
     "data": {
      "text/plain": [
       "0.551924739046606"
      ]
     },
     "execution_count": 35,
     "metadata": {},
     "output_type": "execute_result"
    }
   ],
   "source": [
    "# test score\n",
    "gs3.score(X_test, y_test)"
   ]
  },
  {
   "cell_type": "code",
   "execution_count": 36,
   "id": "07d00a7f",
   "metadata": {},
   "outputs": [
    {
     "data": {
      "image/png": "[encoded data removed]",
      "text/plain": [
       "<Figure size 640x480 with 2 Axes>"
      ]
     },
     "metadata": {},
     "output_type": "display_data"
    }
   ],
   "source": [
    "ConfusionMatrixDisplay.from_estimator(gs3, X_test, y_test, cmap = 'Reds')\n",
    "\n",
    "# Get the axis of the plot\n",
    "ax = plt.gca()\n",
    "\n",
    "# Set the title\n",
    "ax.set_title('CM of Hypertuned Ada Boost Model with SMOTEN');"
   ]
  },
  {
   "cell_type": "code",
   "execution_count": 46,
   "id": "005e819d",
   "metadata": {},
   "outputs": [
    {
     "name": "stdout",
     "output_type": "stream",
     "text": [
      "balanced_accuracy: 0.551924739046606\n",
      "recall: 0.4943820224719101\n",
      "precision: 0.4\n",
      "f1 score: 0.4422110552763819\n"
     ]
    },
    {
     "data": {
      "image/png": "[encoded data removed]",
      "text/plain": [
       "<Figure size 640x480 with 2 Axes>"
      ]
     },
     "metadata": {},
     "output_type": "display_data"
    }
   ],
   "source": [
    "# create prediction\n",
    "preds3 = gs3.predict(X_test)\n",
    "\n",
    "# find out respective scores\n",
    "scores.append(evaluation(X_test, y_test, preds3, gs3))"
   ]
  },
  {
   "cell_type": "markdown",
   "id": "4c331339",
   "metadata": {},
   "source": [
    "# Confusion Matrix of Hypertuned Ada Boost with SMOTEN\n",
    "__________\n",
    "\n",
    "Youth who stayed homeless more than 1 year as our target / positive outcome:\n",
    "\n",
    "* Our model correctly predicted 206 times that the youth did not stay homeless more than 1 year.\n",
    "* Our model incorrectly predicted 132 times that youth stayed homeless more than 1 year when they actually did not.\n",
    "* Our model incorrectly predicted 90 times that youth did not stay homeless more than 1 year when they actually did.\n",
    "* Our model correctly predicted 88 times that youth stayed homeless more than 1 year.\n",
    "\n",
    "The model shows more capability in identifying negative cases than positive cases.\n",
    "\n",
    "* For balanced accuracy, the model's overall performance in terms of correctly classifying both positive and negative cases is moderate.\n",
    "* For recall, the model correctly identified approximately 49.43% of the youth who stayed homeless more than 1 year.\n",
    "* For out of all the cases predicted as youth staying homeless more than 1 year, approximately 40% were actually true positives.\n",
    "* For the F1 score, it indicates a balance between precision and recall."
   ]
  },
  {
   "cell_type": "code",
   "execution_count": 47,
   "id": "280bd3a2",
   "metadata": {},
   "outputs": [
    {
     "data": {
      "text/html": [
       "<div>\n",
       "<style scoped>\n",
       "    .dataframe tbody tr th:only-of-type {\n",
       "        vertical-align: middle;\n",
       "    }\n",
       "\n",
       "    .dataframe tbody tr th {\n",
       "        vertical-align: top;\n",
       "    }\n",
       "\n",
       "    .dataframe thead th {\n",
       "        text-align: right;\n",
       "    }\n",
       "</style>\n",
       "<table border=\"1\" class=\"dataframe\">\n",
       "  <thead>\n",
       "    <tr style=\"text-align: right;\">\n",
       "      <th></th>\n",
       "      <th>balanced_accuracy</th>\n",
       "      <th>recall</th>\n",
       "      <th>precision</th>\n",
       "      <th>f1_score</th>\n",
       "    </tr>\n",
       "  </thead>\n",
       "  <tbody>\n",
       "    <tr>\n",
       "      <th>ada</th>\n",
       "      <td>0.504720</td>\n",
       "      <td>0.044944</td>\n",
       "      <td>0.40000</td>\n",
       "      <td>0.080808</td>\n",
       "    </tr>\n",
       "    <tr>\n",
       "      <th>RamdomOverSampler</th>\n",
       "      <td>0.562878</td>\n",
       "      <td>0.471910</td>\n",
       "      <td>0.41791</td>\n",
       "      <td>0.443272</td>\n",
       "    </tr>\n",
       "    <tr>\n",
       "      <th>SMOTEN</th>\n",
       "      <td>0.551925</td>\n",
       "      <td>0.494382</td>\n",
       "      <td>0.40000</td>\n",
       "      <td>0.442211</td>\n",
       "    </tr>\n",
       "  </tbody>\n",
       "</table>\n",
       "</div>"
      ],
      "text/plain": [
       "                   balanced_accuracy    recall  precision  f1_score\n",
       "ada                         0.504720  0.044944    0.40000  0.080808\n",
       "RamdomOverSampler           0.562878  0.471910    0.41791  0.443272\n",
       "SMOTEN                      0.551925  0.494382    0.40000  0.442211"
      ]
     },
     "execution_count": 47,
     "metadata": {},
     "output_type": "execute_result"
    }
   ],
   "source": [
    "pd.DataFrame(scores, index=['ada', 'RamdomOverSampler', 'SMOTEN'])"
   ]
  },
  {
   "cell_type": "markdown",
   "id": "49c63733",
   "metadata": {},
   "source": [
    "# ADASYN with Hypertuned ADA"
   ]
  },
  {
   "cell_type": "code",
   "execution_count": 37,
   "id": "e730362f",
   "metadata": {},
   "outputs": [],
   "source": [
    "pipe4 = make_pipeline(ADASYN(random_state=42),\n",
    "                    AdaBoostClassifier(random_state=42))"
   ]
  },
  {
   "cell_type": "code",
   "execution_count": 38,
   "id": "4c93b114",
   "metadata": {},
   "outputs": [],
   "source": [
    "param_grid4 = {\n",
    "    'adasyn__n_neighbors':[3,5,7],\n",
    "    'adaboostclassifier__base_estimator': [base_estimator],  # Base estimator for AdaBoost\n",
    "    'adaboostclassifier__n_estimators': [50, 100, 150],  # Number of estimators (weak learners)\n",
    "    'adaboostclassifier__learning_rate': [0.1, 0.5, 1.0],  # Learning rate\n",
    "    'adaboostclassifier__algorithm': ['SAMME', 'SAMME.R']  # AdaBoost algorithm to use\n",
    "}"
   ]
  },
  {
   "cell_type": "code",
   "execution_count": 39,
   "id": "43bbefe0",
   "metadata": {},
   "outputs": [],
   "source": [
    "gs4 = GridSearchCV(\n",
    "    pipe4, \n",
    "    param_grid=param_grid4, \n",
    "    scoring='balanced_accuracy',\n",
    "    cv=5,\n",
    "    n_jobs=-1\n",
    ")"
   ]
  },
  {
   "cell_type": "code",
   "execution_count": 40,
   "id": "3958bf05",
   "metadata": {},
   "outputs": [
    {
     "name": "stderr",
     "output_type": "stream",
     "text": [
      "C:\\Users\\danie\\anaconda3\\Lib\\site-packages\\sklearn\\ensemble\\_base.py:156: FutureWarning: `base_estimator` was renamed to `estimator` in version 1.2 and will be removed in 1.4.\n",
      "  warnings.warn(\n"
     ]
    },
    {
     "data": {
      "text/html": [
       "<style>#sk-container-id-5 {color: black;}#sk-container-id-5 pre{padding: 0;}#sk-container-id-5 div.sk-toggleable {background-color: white;}#sk-container-id-5 label.sk-toggleable__label {cursor: pointer;display: block;width: 100%;margin-bottom: 0;padding: 0.3em;box-sizing: border-box;text-align: center;}#sk-container-id-5 label.sk-toggleable__label-arrow:before {content: \"▸\";float: left;margin-right: 0.25em;color: #696969;}#sk-container-id-5 label.sk-toggleable__label-arrow:hover:before {color: black;}#sk-container-id-5 div.sk-estimator:hover label.sk-toggleable__label-arrow:before {color: black;}#sk-container-id-5 div.sk-toggleable__content {max-height: 0;max-width: 0;overflow: hidden;text-align: left;background-color: #f0f8ff;}#sk-container-id-5 div.sk-toggleable__content pre {margin: 0.2em;color: black;border-radius: 0.25em;background-color: #f0f8ff;}#sk-container-id-5 input.sk-toggleable__control:checked~div.sk-toggleable__content {max-height: 200px;max-width: 100%;overflow: auto;}#sk-container-id-5 input.sk-toggleable__control:checked~label.sk-toggleable__label-arrow:before {content: \"▾\";}#sk-container-id-5 div.sk-estimator input.sk-toggleable__control:checked~label.sk-toggleable__label {background-color: #d4ebff;}#sk-container-id-5 div.sk-label input.sk-toggleable__control:checked~label.sk-toggleable__label {background-color: #d4ebff;}#sk-container-id-5 input.sk-hidden--visually {border: 0;clip: rect(1px 1px 1px 1px);clip: rect(1px, 1px, 1px, 1px);height: 1px;margin: -1px;overflow: hidden;padding: 0;position: absolute;width: 1px;}#sk-container-id-5 div.sk-estimator {font-family: monospace;background-color: #f0f8ff;border: 1px dotted black;border-radius: 0.25em;box-sizing: border-box;margin-bottom: 0.5em;}#sk-container-id-5 div.sk-estimator:hover {background-color: #d4ebff;}#sk-container-id-5 div.sk-parallel-item::after {content: \"\";width: 100%;border-bottom: 1px solid gray;flex-grow: 1;}#sk-container-id-5 div.sk-label:hover label.sk-toggleable__label {background-color: #d4ebff;}#sk-container-id-5 div.sk-serial::before {content: \"\";position: absolute;border-left: 1px solid gray;box-sizing: border-box;top: 0;bottom: 0;left: 50%;z-index: 0;}#sk-container-id-5 div.sk-serial {display: flex;flex-direction: column;align-items: center;background-color: white;padding-right: 0.2em;padding-left: 0.2em;position: relative;}#sk-container-id-5 div.sk-item {position: relative;z-index: 1;}#sk-container-id-5 div.sk-parallel {display: flex;align-items: stretch;justify-content: center;background-color: white;position: relative;}#sk-container-id-5 div.sk-item::before, #sk-container-id-5 div.sk-parallel-item::before {content: \"\";position: absolute;border-left: 1px solid gray;box-sizing: border-box;top: 0;bottom: 0;left: 50%;z-index: -1;}#sk-container-id-5 div.sk-parallel-item {display: flex;flex-direction: column;z-index: 1;position: relative;background-color: white;}#sk-container-id-5 div.sk-parallel-item:first-child::after {align-self: flex-end;width: 50%;}#sk-container-id-5 div.sk-parallel-item:last-child::after {align-self: flex-start;width: 50%;}#sk-container-id-5 div.sk-parallel-item:only-child::after {width: 0;}#sk-container-id-5 div.sk-dashed-wrapped {border: 1px dashed gray;margin: 0 0.4em 0.5em 0.4em;box-sizing: border-box;padding-bottom: 0.4em;background-color: white;}#sk-container-id-5 div.sk-label label {font-family: monospace;font-weight: bold;display: inline-block;line-height: 1.2em;}#sk-container-id-5 div.sk-label-container {text-align: center;}#sk-container-id-5 div.sk-container {/* jupyter's `normalize.less` sets `[hidden] { display: none; }` but bootstrap.min.css set `[hidden] { display: none !important; }` so we also need the `!important` here to be able to override the default hidden behavior on the sphinx rendered scikit-learn.org. See: https://github.com/scikit-learn/scikit-learn/issues/21755 */display: inline-block !important;position: relative;}#sk-container-id-5 div.sk-text-repr-fallback {display: none;}</style><div id=\"sk-container-id-5\" class=\"sk-top-container\"><div class=\"sk-text-repr-fallback\"><pre>GridSearchCV(cv=5,\n",
       "             estimator=Pipeline(steps=[(&#x27;adasyn&#x27;, ADASYN(random_state=42)),\n",
       "                                       (&#x27;adaboostclassifier&#x27;,\n",
       "                                        AdaBoostClassifier(random_state=42))]),\n",
       "             n_jobs=-1,\n",
       "             param_grid={&#x27;adaboostclassifier__algorithm&#x27;: [&#x27;SAMME&#x27;, &#x27;SAMME.R&#x27;],\n",
       "                         &#x27;adaboostclassifier__base_estimator&#x27;: [DecisionTreeClassifier()],\n",
       "                         &#x27;adaboostclassifier__learning_rate&#x27;: [0.1, 0.5, 1.0],\n",
       "                         &#x27;adaboostclassifier__n_estimators&#x27;: [50, 100, 150],\n",
       "                         &#x27;adasyn__n_neighbors&#x27;: [3, 5, 7]},\n",
       "             scoring=&#x27;balanced_accuracy&#x27;)</pre><b>In a Jupyter environment, please rerun this cell to show the HTML representation or trust the notebook. <br />On GitHub, the HTML representation is unable to render, please try loading this page with nbviewer.org.</b></div><div class=\"sk-container\" hidden><div class=\"sk-item sk-dashed-wrapped\"><div class=\"sk-label-container\"><div class=\"sk-label sk-toggleable\"><input class=\"sk-toggleable__control sk-hidden--visually\" id=\"sk-estimator-id-14\" type=\"checkbox\" ><label for=\"sk-estimator-id-14\" class=\"sk-toggleable__label sk-toggleable__label-arrow\">GridSearchCV</label><div class=\"sk-toggleable__content\"><pre>GridSearchCV(cv=5,\n",
       "             estimator=Pipeline(steps=[(&#x27;adasyn&#x27;, ADASYN(random_state=42)),\n",
       "                                       (&#x27;adaboostclassifier&#x27;,\n",
       "                                        AdaBoostClassifier(random_state=42))]),\n",
       "             n_jobs=-1,\n",
       "             param_grid={&#x27;adaboostclassifier__algorithm&#x27;: [&#x27;SAMME&#x27;, &#x27;SAMME.R&#x27;],\n",
       "                         &#x27;adaboostclassifier__base_estimator&#x27;: [DecisionTreeClassifier()],\n",
       "                         &#x27;adaboostclassifier__learning_rate&#x27;: [0.1, 0.5, 1.0],\n",
       "                         &#x27;adaboostclassifier__n_estimators&#x27;: [50, 100, 150],\n",
       "                         &#x27;adasyn__n_neighbors&#x27;: [3, 5, 7]},\n",
       "             scoring=&#x27;balanced_accuracy&#x27;)</pre></div></div></div><div class=\"sk-parallel\"><div class=\"sk-parallel-item\"><div class=\"sk-item\"><div class=\"sk-label-container\"><div class=\"sk-label sk-toggleable\"><input class=\"sk-toggleable__control sk-hidden--visually\" id=\"sk-estimator-id-15\" type=\"checkbox\" ><label for=\"sk-estimator-id-15\" class=\"sk-toggleable__label sk-toggleable__label-arrow\">estimator: Pipeline</label><div class=\"sk-toggleable__content\"><pre>Pipeline(steps=[(&#x27;adasyn&#x27;, ADASYN(random_state=42)),\n",
       "                (&#x27;adaboostclassifier&#x27;, AdaBoostClassifier(random_state=42))])</pre></div></div></div><div class=\"sk-serial\"><div class=\"sk-item\"><div class=\"sk-serial\"><div class=\"sk-item\"><div class=\"sk-estimator sk-toggleable\"><input class=\"sk-toggleable__control sk-hidden--visually\" id=\"sk-estimator-id-16\" type=\"checkbox\" ><label for=\"sk-estimator-id-16\" class=\"sk-toggleable__label sk-toggleable__label-arrow\">ADASYN</label><div class=\"sk-toggleable__content\"><pre>ADASYN(random_state=42)</pre></div></div></div><div class=\"sk-item\"><div class=\"sk-estimator sk-toggleable\"><input class=\"sk-toggleable__control sk-hidden--visually\" id=\"sk-estimator-id-17\" type=\"checkbox\" ><label for=\"sk-estimator-id-17\" class=\"sk-toggleable__label sk-toggleable__label-arrow\">AdaBoostClassifier</label><div class=\"sk-toggleable__content\"><pre>AdaBoostClassifier(random_state=42)</pre></div></div></div></div></div></div></div></div></div></div></div></div>"
      ],
      "text/plain": [
       "GridSearchCV(cv=5,\n",
       "             estimator=Pipeline(steps=[('adasyn', ADASYN(random_state=42)),\n",
       "                                       ('adaboostclassifier',\n",
       "                                        AdaBoostClassifier(random_state=42))]),\n",
       "             n_jobs=-1,\n",
       "             param_grid={'adaboostclassifier__algorithm': ['SAMME', 'SAMME.R'],\n",
       "                         'adaboostclassifier__base_estimator': [DecisionTreeClassifier()],\n",
       "                         'adaboostclassifier__learning_rate': [0.1, 0.5, 1.0],\n",
       "                         'adaboostclassifier__n_estimators': [50, 100, 150],\n",
       "                         'adasyn__n_neighbors': [3, 5, 7]},\n",
       "             scoring='balanced_accuracy')"
      ]
     },
     "execution_count": 40,
     "metadata": {},
     "output_type": "execute_result"
    }
   ],
   "source": [
    "gs4.fit(X_train, y_train)"
   ]
  },
  {
   "cell_type": "code",
   "execution_count": 41,
   "id": "f0d0f050",
   "metadata": {},
   "outputs": [
    {
     "data": {
      "text/plain": [
       "0.633082953680633"
      ]
     },
     "execution_count": 41,
     "metadata": {},
     "output_type": "execute_result"
    }
   ],
   "source": [
    "# train score\n",
    "gs4.score(X_train, y_train)"
   ]
  },
  {
   "cell_type": "code",
   "execution_count": 42,
   "id": "5fe51bf5",
   "metadata": {},
   "outputs": [
    {
     "data": {
      "text/plain": [
       "0.5381457349910246"
      ]
     },
     "execution_count": 42,
     "metadata": {},
     "output_type": "execute_result"
    }
   ],
   "source": [
    "# test score\n",
    "gs4.score(X_test, y_test)"
   ]
  },
  {
   "cell_type": "code",
   "execution_count": 48,
   "id": "2a6744e2",
   "metadata": {},
   "outputs": [
    {
     "data": {
      "image/png": "[encoded data removed]",
      "text/plain": [
       "<Figure size 640x480 with 2 Axes>"
      ]
     },
     "metadata": {},
     "output_type": "display_data"
    }
   ],
   "source": [
    "ConfusionMatrixDisplay.from_estimator(gs4, X_test, y_test, cmap = 'Reds')\n",
    "\n",
    "# Get the axis of the plot\n",
    "ax = plt.gca()\n",
    "\n",
    "# Set the title\n",
    "ax.set_title('CM of Hypertuned Ada Boost Model with ADASYN')\n",
    "\n",
    "#save\n",
    "plt.savefig(\"cm_hypertuned_ada_adasyn.png\", dpi = 75);"
   ]
  },
  {
   "cell_type": "code",
   "execution_count": 54,
   "id": "5236d32a",
   "metadata": {},
   "outputs": [
    {
     "name": "stdout",
     "output_type": "stream",
     "text": [
      "balanced_accuracy: 0.5381457349910246\n",
      "recall: 0.5674157303370787\n",
      "precision: 0.3782771535580524\n",
      "f1 score: 0.453932584269663\n"
     ]
    },
    {
     "data": {
      "image/png": "[encoded data removed]",
      "text/plain": [
       "<Figure size 640x480 with 2 Axes>"
      ]
     },
     "metadata": {},
     "output_type": "display_data"
    }
   ],
   "source": [
    "preds4 = gs4.predict(X_test)\n",
    "\n",
    "scores.append(evaluation(X_test, y_test, preds4, gs4))"
   ]
  },
  {
   "cell_type": "markdown",
   "id": "39543b42",
   "metadata": {},
   "source": [
    "# Confusion Matrix of Hypertuned Ada Boost with ADASYN\n",
    "__________\n",
    "\n",
    "Youth who stayed homeless more than 1 year as our target / positive outcome:\n",
    "\n",
    "* Our model correctly predicted 172 times that the youth did not stay homeless more than 1 year.\n",
    "* Our model incorrectly predicted 166 times that youth stayed homeless more than 1 year when they actually did not.\n",
    "* Our model incorrectly predicted 77 times that youth did not stay homeless more than 1 year when they actually did.\n",
    "* Our model correctly predicted 101 times that youth stayed homeless more than 1 year.\n",
    "\n",
    "The model shows more capability in identifying negative cases than positive cases.\n",
    "\n",
    "* For balanced accuracy, the model's overall performance in terms of correctly classifying both positive and negative cases is moderate.\n",
    "* For recall, the model correctly identified approximately 57% of the youth who stayed homeless more than 1 year.\n",
    "* For out of all the cases predicted as youth staying homeless more than 1 year, approximately 38% were actually true positives.\n",
    "* For the F1 score, it indicates a balance between precision and recall."
   ]
  },
  {
   "cell_type": "code",
   "execution_count": 55,
   "id": "37b753e9",
   "metadata": {},
   "outputs": [
    {
     "data": {
      "text/html": [
       "<div>\n",
       "<style scoped>\n",
       "    .dataframe tbody tr th:only-of-type {\n",
       "        vertical-align: middle;\n",
       "    }\n",
       "\n",
       "    .dataframe tbody tr th {\n",
       "        vertical-align: top;\n",
       "    }\n",
       "\n",
       "    .dataframe thead th {\n",
       "        text-align: right;\n",
       "    }\n",
       "</style>\n",
       "<table border=\"1\" class=\"dataframe\">\n",
       "  <thead>\n",
       "    <tr style=\"text-align: right;\">\n",
       "      <th></th>\n",
       "      <th>balanced_accuracy</th>\n",
       "      <th>recall</th>\n",
       "      <th>precision</th>\n",
       "      <th>f1_score</th>\n",
       "    </tr>\n",
       "  </thead>\n",
       "  <tbody>\n",
       "    <tr>\n",
       "      <th>ada</th>\n",
       "      <td>0.504720</td>\n",
       "      <td>0.044944</td>\n",
       "      <td>0.400000</td>\n",
       "      <td>0.080808</td>\n",
       "    </tr>\n",
       "    <tr>\n",
       "      <th>RandomOverSampler</th>\n",
       "      <td>0.562878</td>\n",
       "      <td>0.471910</td>\n",
       "      <td>0.417910</td>\n",
       "      <td>0.443272</td>\n",
       "    </tr>\n",
       "    <tr>\n",
       "      <th>SMOTEN</th>\n",
       "      <td>0.551925</td>\n",
       "      <td>0.494382</td>\n",
       "      <td>0.400000</td>\n",
       "      <td>0.442211</td>\n",
       "    </tr>\n",
       "    <tr>\n",
       "      <th>ADASYN</th>\n",
       "      <td>0.538146</td>\n",
       "      <td>0.567416</td>\n",
       "      <td>0.378277</td>\n",
       "      <td>0.453933</td>\n",
       "    </tr>\n",
       "  </tbody>\n",
       "</table>\n",
       "</div>"
      ],
      "text/plain": [
       "                   balanced_accuracy    recall  precision  f1_score\n",
       "ada                         0.504720  0.044944   0.400000  0.080808\n",
       "RandomOverSampler           0.562878  0.471910   0.417910  0.443272\n",
       "SMOTEN                      0.551925  0.494382   0.400000  0.442211\n",
       "ADASYN                      0.538146  0.567416   0.378277  0.453933"
      ]
     },
     "execution_count": 55,
     "metadata": {},
     "output_type": "execute_result"
    }
   ],
   "source": [
    "pd.DataFrame(scores, index = ['ada', 'RandomOverSampler',\n",
    "                             'SMOTEN', 'ADASYN'])"
   ]
  },
  {
   "cell_type": "markdown",
   "id": "5cc36ff1",
   "metadata": {},
   "source": [
    "## Overweighing minority class importance in algorithms\n",
    "_____\n",
    "\n",
    "This is not applicable with ADA Boost Classifier since parameter does not include class_weight. Instead we are manually going to calculate class weights based on inverse class frequencies given the specific imbalances."
   ]
  },
  {
   "cell_type": "code",
   "execution_count": 44,
   "id": "c5f565d5",
   "metadata": {},
   "outputs": [
    {
     "data": {
      "text/html": [
       "<style>#sk-container-id-6 {color: black;}#sk-container-id-6 pre{padding: 0;}#sk-container-id-6 div.sk-toggleable {background-color: white;}#sk-container-id-6 label.sk-toggleable__label {cursor: pointer;display: block;width: 100%;margin-bottom: 0;padding: 0.3em;box-sizing: border-box;text-align: center;}#sk-container-id-6 label.sk-toggleable__label-arrow:before {content: \"▸\";float: left;margin-right: 0.25em;color: #696969;}#sk-container-id-6 label.sk-toggleable__label-arrow:hover:before {color: black;}#sk-container-id-6 div.sk-estimator:hover label.sk-toggleable__label-arrow:before {color: black;}#sk-container-id-6 div.sk-toggleable__content {max-height: 0;max-width: 0;overflow: hidden;text-align: left;background-color: #f0f8ff;}#sk-container-id-6 div.sk-toggleable__content pre {margin: 0.2em;color: black;border-radius: 0.25em;background-color: #f0f8ff;}#sk-container-id-6 input.sk-toggleable__control:checked~div.sk-toggleable__content {max-height: 200px;max-width: 100%;overflow: auto;}#sk-container-id-6 input.sk-toggleable__control:checked~label.sk-toggleable__label-arrow:before {content: \"▾\";}#sk-container-id-6 div.sk-estimator input.sk-toggleable__control:checked~label.sk-toggleable__label {background-color: #d4ebff;}#sk-container-id-6 div.sk-label input.sk-toggleable__control:checked~label.sk-toggleable__label {background-color: #d4ebff;}#sk-container-id-6 input.sk-hidden--visually {border: 0;clip: rect(1px 1px 1px 1px);clip: rect(1px, 1px, 1px, 1px);height: 1px;margin: -1px;overflow: hidden;padding: 0;position: absolute;width: 1px;}#sk-container-id-6 div.sk-estimator {font-family: monospace;background-color: #f0f8ff;border: 1px dotted black;border-radius: 0.25em;box-sizing: border-box;margin-bottom: 0.5em;}#sk-container-id-6 div.sk-estimator:hover {background-color: #d4ebff;}#sk-container-id-6 div.sk-parallel-item::after {content: \"\";width: 100%;border-bottom: 1px solid gray;flex-grow: 1;}#sk-container-id-6 div.sk-label:hover label.sk-toggleable__label {background-color: #d4ebff;}#sk-container-id-6 div.sk-serial::before {content: \"\";position: absolute;border-left: 1px solid gray;box-sizing: border-box;top: 0;bottom: 0;left: 50%;z-index: 0;}#sk-container-id-6 div.sk-serial {display: flex;flex-direction: column;align-items: center;background-color: white;padding-right: 0.2em;padding-left: 0.2em;position: relative;}#sk-container-id-6 div.sk-item {position: relative;z-index: 1;}#sk-container-id-6 div.sk-parallel {display: flex;align-items: stretch;justify-content: center;background-color: white;position: relative;}#sk-container-id-6 div.sk-item::before, #sk-container-id-6 div.sk-parallel-item::before {content: \"\";position: absolute;border-left: 1px solid gray;box-sizing: border-box;top: 0;bottom: 0;left: 50%;z-index: -1;}#sk-container-id-6 div.sk-parallel-item {display: flex;flex-direction: column;z-index: 1;position: relative;background-color: white;}#sk-container-id-6 div.sk-parallel-item:first-child::after {align-self: flex-end;width: 50%;}#sk-container-id-6 div.sk-parallel-item:last-child::after {align-self: flex-start;width: 50%;}#sk-container-id-6 div.sk-parallel-item:only-child::after {width: 0;}#sk-container-id-6 div.sk-dashed-wrapped {border: 1px dashed gray;margin: 0 0.4em 0.5em 0.4em;box-sizing: border-box;padding-bottom: 0.4em;background-color: white;}#sk-container-id-6 div.sk-label label {font-family: monospace;font-weight: bold;display: inline-block;line-height: 1.2em;}#sk-container-id-6 div.sk-label-container {text-align: center;}#sk-container-id-6 div.sk-container {/* jupyter's `normalize.less` sets `[hidden] { display: none; }` but bootstrap.min.css set `[hidden] { display: none !important; }` so we also need the `!important` here to be able to override the default hidden behavior on the sphinx rendered scikit-learn.org. See: https://github.com/scikit-learn/scikit-learn/issues/21755 */display: inline-block !important;position: relative;}#sk-container-id-6 div.sk-text-repr-fallback {display: none;}</style><div id=\"sk-container-id-6\" class=\"sk-top-container\"><div class=\"sk-text-repr-fallback\"><pre>GridSearchCV(cv=5, estimator=AdaBoostClassifier(random_state=42),\n",
       "             param_grid={&#x27;learning_rate&#x27;: [0.01, 0.1, 1.0],\n",
       "                         &#x27;n_estimators&#x27;: [50, 100, 200]},\n",
       "             scoring=&#x27;balanced_accuracy&#x27;)</pre><b>In a Jupyter environment, please rerun this cell to show the HTML representation or trust the notebook. <br />On GitHub, the HTML representation is unable to render, please try loading this page with nbviewer.org.</b></div><div class=\"sk-container\" hidden><div class=\"sk-item sk-dashed-wrapped\"><div class=\"sk-label-container\"><div class=\"sk-label sk-toggleable\"><input class=\"sk-toggleable__control sk-hidden--visually\" id=\"sk-estimator-id-18\" type=\"checkbox\" ><label for=\"sk-estimator-id-18\" class=\"sk-toggleable__label sk-toggleable__label-arrow\">GridSearchCV</label><div class=\"sk-toggleable__content\"><pre>GridSearchCV(cv=5, estimator=AdaBoostClassifier(random_state=42),\n",
       "             param_grid={&#x27;learning_rate&#x27;: [0.01, 0.1, 1.0],\n",
       "                         &#x27;n_estimators&#x27;: [50, 100, 200]},\n",
       "             scoring=&#x27;balanced_accuracy&#x27;)</pre></div></div></div><div class=\"sk-parallel\"><div class=\"sk-parallel-item\"><div class=\"sk-item\"><div class=\"sk-label-container\"><div class=\"sk-label sk-toggleable\"><input class=\"sk-toggleable__control sk-hidden--visually\" id=\"sk-estimator-id-19\" type=\"checkbox\" ><label for=\"sk-estimator-id-19\" class=\"sk-toggleable__label sk-toggleable__label-arrow\">estimator: AdaBoostClassifier</label><div class=\"sk-toggleable__content\"><pre>AdaBoostClassifier(random_state=42)</pre></div></div></div><div class=\"sk-serial\"><div class=\"sk-item\"><div class=\"sk-estimator sk-toggleable\"><input class=\"sk-toggleable__control sk-hidden--visually\" id=\"sk-estimator-id-20\" type=\"checkbox\" ><label for=\"sk-estimator-id-20\" class=\"sk-toggleable__label sk-toggleable__label-arrow\">AdaBoostClassifier</label><div class=\"sk-toggleable__content\"><pre>AdaBoostClassifier(random_state=42)</pre></div></div></div></div></div></div></div></div></div></div>"
      ],
      "text/plain": [
       "GridSearchCV(cv=5, estimator=AdaBoostClassifier(random_state=42),\n",
       "             param_grid={'learning_rate': [0.01, 0.1, 1.0],\n",
       "                         'n_estimators': [50, 100, 200]},\n",
       "             scoring='balanced_accuracy')"
      ]
     },
     "execution_count": 44,
     "metadata": {},
     "output_type": "execute_result"
    }
   ],
   "source": [
    "ada5 = AdaBoostClassifier(random_state=42)\n",
    "\n",
    "# Calculate class weights based on inverse class frequencies\n",
    "class_weight_0 = 1 / 0.655413\n",
    "class_weight_1 = 1 / 0.344587\n",
    "\n",
    "# Define parameter grid for hyperparameter tuning\n",
    "param_grid = {\n",
    "    'n_estimators': [50, 100, 200],  # Adjust the number of estimators\n",
    "    'learning_rate': [0.01, 0.1, 1.0]  # Adjust the learning rate\n",
    "}\n",
    "\n",
    "# Define GridSearchCV\n",
    "grid_search = GridSearchCV(ada5, param_grid, cv=5, scoring='balanced_accuracy')\n",
    "\n",
    "# Fit the model with weighted samples\n",
    "grid_search.fit(X_train, y_train, sample_weight=y_train.map({0: class_weight_0, 1: class_weight_1}))"
   ]
  },
  {
   "cell_type": "code",
   "execution_count": 45,
   "id": "00d9edd5",
   "metadata": {},
   "outputs": [
    {
     "data": {
      "text/plain": [
       "0.5642533960238113"
      ]
     },
     "execution_count": 45,
     "metadata": {},
     "output_type": "execute_result"
    }
   ],
   "source": [
    "# train score\n",
    "grid_search.score(X_train, y_train)"
   ]
  },
  {
   "cell_type": "code",
   "execution_count": 46,
   "id": "a94e5bbe",
   "metadata": {},
   "outputs": [
    {
     "data": {
      "text/plain": [
       "0.5310817099926867"
      ]
     },
     "execution_count": 46,
     "metadata": {},
     "output_type": "execute_result"
    }
   ],
   "source": [
    "# test score\n",
    "grid_search.score(X_test, y_test)"
   ]
  },
  {
   "cell_type": "code",
   "execution_count": 47,
   "id": "1774ddac",
   "metadata": {},
   "outputs": [
    {
     "data": {
      "image/png": "[encoded data removed]",
      "text/plain": [
       "<Figure size 640x480 with 2 Axes>"
      ]
     },
     "metadata": {},
     "output_type": "display_data"
    }
   ],
   "source": [
    "ConfusionMatrixDisplay.from_estimator(grid_search, X_test, y_test, cmap = 'Reds')\n",
    "\n",
    "# Get the axis of the plot\n",
    "ax = plt.gca()\n",
    "\n",
    "# Set the title\n",
    "ax.set_title('CM of Ada Boost Model with Overweighing Minority Class');"
   ]
  },
  {
   "cell_type": "code",
   "execution_count": 59,
   "id": "1366f06b",
   "metadata": {},
   "outputs": [
    {
     "name": "stdout",
     "output_type": "stream",
     "text": [
      "balanced_accuracy: 0.5310817099926867\n",
      "recall: 0.4438202247191011\n",
      "precision: 0.3798076923076923\n",
      "f1 score: 0.40932642487046633\n"
     ]
    },
    {
     "data": {
      "image/png": "[encoded data removed]",
      "text/plain": [
       "<Figure size 640x480 with 2 Axes>"
      ]
     },
     "metadata": {},
     "output_type": "display_data"
    }
   ],
   "source": [
    "scores.append(evaluation(X_test, y_test, grid_search.predict(X_test), grid_search))"
   ]
  },
  {
   "cell_type": "markdown",
   "id": "d4de3648",
   "metadata": {},
   "source": [
    "# Confusion Matrix of Ada Boost with Overweighing Minority Class\n",
    "__________\n",
    "\n",
    "Youth who stayed homeless more than 1 year as our target / positive outcome:\n",
    "\n",
    "* Our model correctly predicted 209 times that the youth did not stay homeless more than 1 year.\n",
    "* Our model incorrectly predicted 129 times that youth stayed homeless more than 1 year when they actually did not.\n",
    "* Our model incorrectly predicted 99 times that youth did not stay homeless more than 1 year when they actually did.\n",
    "* Our model correctly predicted 79 times that youth stayed homeless more than 1 year.\n",
    "\n",
    "The model shows more capability in identifying negative cases than positive cases.\n",
    "\n",
    "* For balanced accuracy, the model's overall performance in terms of correctly classifying both positive and negative cases is moderate.\n",
    "* For recall, the model correctly identified approximately 44% of the youth who stayed homeless more than 1 year.\n",
    "* For out of all the cases predicted as youth staying homeless more than 1 year, approximately 38% were actually true positives.\n",
    "* For the F1 score, the model's performance still indicates a bias towards correctly identifying negative cases (youth who did not stay homeless more than 1 year)."
   ]
  },
  {
   "cell_type": "code",
   "execution_count": 60,
   "id": "682a3d05",
   "metadata": {},
   "outputs": [
    {
     "data": {
      "text/html": [
       "<div>\n",
       "<style scoped>\n",
       "    .dataframe tbody tr th:only-of-type {\n",
       "        vertical-align: middle;\n",
       "    }\n",
       "\n",
       "    .dataframe tbody tr th {\n",
       "        vertical-align: top;\n",
       "    }\n",
       "\n",
       "    .dataframe thead th {\n",
       "        text-align: right;\n",
       "    }\n",
       "</style>\n",
       "<table border=\"1\" class=\"dataframe\">\n",
       "  <thead>\n",
       "    <tr style=\"text-align: right;\">\n",
       "      <th></th>\n",
       "      <th>balanced_accuracy</th>\n",
       "      <th>recall</th>\n",
       "      <th>precision</th>\n",
       "      <th>f1_score</th>\n",
       "    </tr>\n",
       "  </thead>\n",
       "  <tbody>\n",
       "    <tr>\n",
       "      <th>ada</th>\n",
       "      <td>0.504720</td>\n",
       "      <td>0.044944</td>\n",
       "      <td>0.400000</td>\n",
       "      <td>0.080808</td>\n",
       "    </tr>\n",
       "    <tr>\n",
       "      <th>RandomOverSampler</th>\n",
       "      <td>0.562878</td>\n",
       "      <td>0.471910</td>\n",
       "      <td>0.417910</td>\n",
       "      <td>0.443272</td>\n",
       "    </tr>\n",
       "    <tr>\n",
       "      <th>SMOTEN</th>\n",
       "      <td>0.551925</td>\n",
       "      <td>0.494382</td>\n",
       "      <td>0.400000</td>\n",
       "      <td>0.442211</td>\n",
       "    </tr>\n",
       "    <tr>\n",
       "      <th>ADASYN</th>\n",
       "      <td>0.538146</td>\n",
       "      <td>0.567416</td>\n",
       "      <td>0.378277</td>\n",
       "      <td>0.453933</td>\n",
       "    </tr>\n",
       "    <tr>\n",
       "      <th>Weightedada</th>\n",
       "      <td>0.531082</td>\n",
       "      <td>0.443820</td>\n",
       "      <td>0.379808</td>\n",
       "      <td>0.409326</td>\n",
       "    </tr>\n",
       "  </tbody>\n",
       "</table>\n",
       "</div>"
      ],
      "text/plain": [
       "                   balanced_accuracy    recall  precision  f1_score\n",
       "ada                         0.504720  0.044944   0.400000  0.080808\n",
       "RandomOverSampler           0.562878  0.471910   0.417910  0.443272\n",
       "SMOTEN                      0.551925  0.494382   0.400000  0.442211\n",
       "ADASYN                      0.538146  0.567416   0.378277  0.453933\n",
       "Weightedada                 0.531082  0.443820   0.379808  0.409326"
      ]
     },
     "execution_count": 60,
     "metadata": {},
     "output_type": "execute_result"
    }
   ],
   "source": [
    "pd.DataFrame(scores, index=['ada', 'RandomOverSampler', 'SMOTEN', 'ADASYN', 'Weightedada'])"
   ]
  },
  {
   "cell_type": "code",
   "execution_count": null,
   "id": "90669a3d",
   "metadata": {},
   "outputs": [],
   "source": []
  }
 ],
 "metadata": {
  "kernelspec": {
   "display_name": "Python 3 (ipykernel)",
   "language": "python",
   "name": "python3"
  },
  "language_info": {
   "codemirror_mode": {
    "name": "ipython",
    "version": 3
   },
   "file_extension": ".py",
   "mimetype": "text/x-python",
   "name": "python",
   "nbconvert_exporter": "python",
   "pygments_lexer": "ipython3",
   "version": "3.11.5"
  }
 },
 "nbformat": 4,
 "nbformat_minor": 5
}
